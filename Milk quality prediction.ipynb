{
 "cells": [
  {
   "cell_type": "markdown",
   "id": "04407b8d",
   "metadata": {},
   "source": [
    "# Milk Quality Prediction\n",
    "\n",
    "Our goal in this project is to design a machine learning model that makes a prediction based on the milk quality data we have.\n",
    "\n",
    "## Data Set - Variables\n",
    "\n",
    "* pH: This Column defines PH alus of the milk which ranges from 3 to 9.5 max : 6.25 to 6.90\n",
    "* Temprature: This Column defines Temprature of the milk which ranges from 34'C to 90'C max : 34'C to 45.20'C\n",
    "* Taste: This Column defines Taste of the milk which is categorical data 0 (Bad) or 1 (Good) max : 1 (Good)\n",
    "* Odor: This Column defines Odor of the milk which is categorical data 0 (Bad) or 1 (Good) max : 0 (Bad)\n",
    "* Fat: This Column defines Fat of the milk which is categorical data 0 (Low) or 1 (High) max : 1 (High)\n",
    "* Turbidity: This Column defines Turbidity of the milk which is categorical data 0 (Low) or 1 (High) max : 1 (High)\n",
    "* Colour: This Column defines Colour of the milk which ranges from 240 to 255 max : 255\n",
    "* Grade: This Column defines Grade (Target) of the milk which is categorical data Where Low (Bad) or Medium (Moderate) High\n"
   ]
  },
  {
   "cell_type": "markdown",
   "id": "586b639c",
   "metadata": {},
   "source": [
    "### Import libraries"
   ]
  },
  {
   "cell_type": "code",
   "execution_count": 1,
   "id": "c72f5570",
   "metadata": {},
   "outputs": [],
   "source": [
    "import numpy as np\n",
    "import seaborn as sns\n",
    "import pandas as pd\n",
    "import matplotlib.pyplot as plt\n",
    "from scipy import stats\n",
    "import warnings\n",
    "warnings.simplefilter('ignore')\n",
    "%matplotlib inline\n",
    "import matplotlib.pyplot as plt"
   ]
  },
  {
   "cell_type": "markdown",
   "id": "db19832a",
   "metadata": {},
   "source": [
    "### Read the data"
   ]
  },
  {
   "cell_type": "code",
   "execution_count": 2,
   "id": "d49a611c",
   "metadata": {},
   "outputs": [],
   "source": [
    "df = pd.read_csv(\"C:/Users/riach/OneDrive/Documents/DATA SCIENCE FILES/milknew.csv\")"
   ]
  },
  {
   "cell_type": "code",
   "execution_count": 3,
   "id": "fefc0968",
   "metadata": {},
   "outputs": [
    {
     "data": {
      "text/html": [
       "<div>\n",
       "<style scoped>\n",
       "    .dataframe tbody tr th:only-of-type {\n",
       "        vertical-align: middle;\n",
       "    }\n",
       "\n",
       "    .dataframe tbody tr th {\n",
       "        vertical-align: top;\n",
       "    }\n",
       "\n",
       "    .dataframe thead th {\n",
       "        text-align: right;\n",
       "    }\n",
       "</style>\n",
       "<table border=\"1\" class=\"dataframe\">\n",
       "  <thead>\n",
       "    <tr style=\"text-align: right;\">\n",
       "      <th></th>\n",
       "      <th>pH</th>\n",
       "      <th>Temprature</th>\n",
       "      <th>Taste</th>\n",
       "      <th>Odor</th>\n",
       "      <th>Fat</th>\n",
       "      <th>Turbidity</th>\n",
       "      <th>Colour</th>\n",
       "      <th>Grade</th>\n",
       "    </tr>\n",
       "  </thead>\n",
       "  <tbody>\n",
       "    <tr>\n",
       "      <th>0</th>\n",
       "      <td>6.6</td>\n",
       "      <td>35</td>\n",
       "      <td>1</td>\n",
       "      <td>0</td>\n",
       "      <td>1</td>\n",
       "      <td>0</td>\n",
       "      <td>254</td>\n",
       "      <td>high</td>\n",
       "    </tr>\n",
       "    <tr>\n",
       "      <th>1</th>\n",
       "      <td>6.6</td>\n",
       "      <td>36</td>\n",
       "      <td>0</td>\n",
       "      <td>1</td>\n",
       "      <td>0</td>\n",
       "      <td>1</td>\n",
       "      <td>253</td>\n",
       "      <td>high</td>\n",
       "    </tr>\n",
       "    <tr>\n",
       "      <th>2</th>\n",
       "      <td>8.5</td>\n",
       "      <td>70</td>\n",
       "      <td>1</td>\n",
       "      <td>1</td>\n",
       "      <td>1</td>\n",
       "      <td>1</td>\n",
       "      <td>246</td>\n",
       "      <td>low</td>\n",
       "    </tr>\n",
       "    <tr>\n",
       "      <th>3</th>\n",
       "      <td>9.5</td>\n",
       "      <td>34</td>\n",
       "      <td>1</td>\n",
       "      <td>1</td>\n",
       "      <td>0</td>\n",
       "      <td>1</td>\n",
       "      <td>255</td>\n",
       "      <td>low</td>\n",
       "    </tr>\n",
       "    <tr>\n",
       "      <th>4</th>\n",
       "      <td>6.6</td>\n",
       "      <td>37</td>\n",
       "      <td>0</td>\n",
       "      <td>0</td>\n",
       "      <td>0</td>\n",
       "      <td>0</td>\n",
       "      <td>255</td>\n",
       "      <td>medium</td>\n",
       "    </tr>\n",
       "  </tbody>\n",
       "</table>\n",
       "</div>"
      ],
      "text/plain": [
       "    pH  Temprature  Taste  Odor  Fat   Turbidity  Colour   Grade\n",
       "0  6.6          35      1     0     1          0     254    high\n",
       "1  6.6          36      0     1     0          1     253    high\n",
       "2  8.5          70      1     1     1          1     246     low\n",
       "3  9.5          34      1     1     0          1     255     low\n",
       "4  6.6          37      0     0     0          0     255  medium"
      ]
     },
     "execution_count": 3,
     "metadata": {},
     "output_type": "execute_result"
    }
   ],
   "source": [
    "df.head()"
   ]
  },
  {
   "cell_type": "code",
   "execution_count": 4,
   "id": "a377f230",
   "metadata": {},
   "outputs": [
    {
     "name": "stdout",
     "output_type": "stream",
     "text": [
      "<class 'pandas.core.frame.DataFrame'>\n",
      "RangeIndex: 1059 entries, 0 to 1058\n",
      "Data columns (total 8 columns):\n",
      " #   Column      Non-Null Count  Dtype  \n",
      "---  ------      --------------  -----  \n",
      " 0   pH          1059 non-null   float64\n",
      " 1   Temprature  1059 non-null   int64  \n",
      " 2   Taste       1059 non-null   int64  \n",
      " 3   Odor        1059 non-null   int64  \n",
      " 4   Fat         1059 non-null   int64  \n",
      " 5   Turbidity   1059 non-null   int64  \n",
      " 6   Colour      1059 non-null   int64  \n",
      " 7   Grade       1059 non-null   object \n",
      "dtypes: float64(1), int64(6), object(1)\n",
      "memory usage: 66.3+ KB\n"
     ]
    }
   ],
   "source": [
    "df.info()"
   ]
  },
  {
   "cell_type": "code",
   "execution_count": 5,
   "id": "a94ed18c",
   "metadata": {},
   "outputs": [
    {
     "data": {
      "text/plain": [
       "(1059, 8)"
      ]
     },
     "execution_count": 5,
     "metadata": {},
     "output_type": "execute_result"
    }
   ],
   "source": [
    "df.shape"
   ]
  },
  {
   "cell_type": "markdown",
   "id": "4eab2845",
   "metadata": {},
   "source": [
    "##### We have 7 numeric values and 1 categorical value."
   ]
  },
  {
   "cell_type": "markdown",
   "id": "7a82e8eb",
   "metadata": {},
   "source": [
    "Converting the categorical variable (grade) into numerical."
   ]
  },
  {
   "cell_type": "code",
   "execution_count": 6,
   "id": "7dca4bfe",
   "metadata": {},
   "outputs": [
    {
     "data": {
      "text/html": [
       "<div>\n",
       "<style scoped>\n",
       "    .dataframe tbody tr th:only-of-type {\n",
       "        vertical-align: middle;\n",
       "    }\n",
       "\n",
       "    .dataframe tbody tr th {\n",
       "        vertical-align: top;\n",
       "    }\n",
       "\n",
       "    .dataframe thead th {\n",
       "        text-align: right;\n",
       "    }\n",
       "</style>\n",
       "<table border=\"1\" class=\"dataframe\">\n",
       "  <thead>\n",
       "    <tr style=\"text-align: right;\">\n",
       "      <th></th>\n",
       "      <th>pH</th>\n",
       "      <th>Temprature</th>\n",
       "      <th>Taste</th>\n",
       "      <th>Odor</th>\n",
       "      <th>Fat</th>\n",
       "      <th>Turbidity</th>\n",
       "      <th>Colour</th>\n",
       "      <th>Grade</th>\n",
       "    </tr>\n",
       "  </thead>\n",
       "  <tbody>\n",
       "    <tr>\n",
       "      <th>0</th>\n",
       "      <td>6.6</td>\n",
       "      <td>35</td>\n",
       "      <td>1</td>\n",
       "      <td>0</td>\n",
       "      <td>1</td>\n",
       "      <td>0</td>\n",
       "      <td>254</td>\n",
       "      <td>2</td>\n",
       "    </tr>\n",
       "    <tr>\n",
       "      <th>1</th>\n",
       "      <td>6.6</td>\n",
       "      <td>36</td>\n",
       "      <td>0</td>\n",
       "      <td>1</td>\n",
       "      <td>0</td>\n",
       "      <td>1</td>\n",
       "      <td>253</td>\n",
       "      <td>2</td>\n",
       "    </tr>\n",
       "    <tr>\n",
       "      <th>2</th>\n",
       "      <td>8.5</td>\n",
       "      <td>70</td>\n",
       "      <td>1</td>\n",
       "      <td>1</td>\n",
       "      <td>1</td>\n",
       "      <td>1</td>\n",
       "      <td>246</td>\n",
       "      <td>0</td>\n",
       "    </tr>\n",
       "    <tr>\n",
       "      <th>3</th>\n",
       "      <td>9.5</td>\n",
       "      <td>34</td>\n",
       "      <td>1</td>\n",
       "      <td>1</td>\n",
       "      <td>0</td>\n",
       "      <td>1</td>\n",
       "      <td>255</td>\n",
       "      <td>0</td>\n",
       "    </tr>\n",
       "    <tr>\n",
       "      <th>4</th>\n",
       "      <td>6.6</td>\n",
       "      <td>37</td>\n",
       "      <td>0</td>\n",
       "      <td>0</td>\n",
       "      <td>0</td>\n",
       "      <td>0</td>\n",
       "      <td>255</td>\n",
       "      <td>1</td>\n",
       "    </tr>\n",
       "  </tbody>\n",
       "</table>\n",
       "</div>"
      ],
      "text/plain": [
       "    pH  Temprature  Taste  Odor  Fat   Turbidity  Colour Grade\n",
       "0  6.6          35      1     0     1          0     254     2\n",
       "1  6.6          36      0     1     0          1     253     2\n",
       "2  8.5          70      1     1     1          1     246     0\n",
       "3  9.5          34      1     1     0          1     255     0\n",
       "4  6.6          37      0     0     0          0     255     1"
      ]
     },
     "execution_count": 6,
     "metadata": {},
     "output_type": "execute_result"
    }
   ],
   "source": [
    "df.loc[df[\"Grade\"] == 'high', \"Grade\"] = 2\n",
    "df.loc[df[\"Grade\"] == 'medium', \"Grade\"] = 1\n",
    "df.loc[df[\"Grade\"] == 'low', \"Grade\"] = 0\n",
    "df.head()"
   ]
  },
  {
   "cell_type": "code",
   "execution_count": 7,
   "id": "09e37d5a",
   "metadata": {},
   "outputs": [],
   "source": [
    "df[\"Grade\"] = df[\"Grade\"].astype(str).astype(int)"
   ]
  },
  {
   "cell_type": "markdown",
   "id": "25fee6fb",
   "metadata": {},
   "source": [
    "### Missing values"
   ]
  },
  {
   "cell_type": "code",
   "execution_count": 8,
   "id": "12bf33ff",
   "metadata": {
    "scrolled": true
   },
   "outputs": [
    {
     "data": {
      "text/plain": [
       "pH            0\n",
       "Temprature    0\n",
       "Taste         0\n",
       "Odor          0\n",
       "Fat           0\n",
       "Turbidity     0\n",
       "Colour        0\n",
       "Grade         0\n",
       "dtype: int64"
      ]
     },
     "execution_count": 8,
     "metadata": {},
     "output_type": "execute_result"
    }
   ],
   "source": [
    "df.isnull().sum()"
   ]
  },
  {
   "cell_type": "markdown",
   "id": "4cd22457",
   "metadata": {},
   "source": [
    "No missing values present."
   ]
  },
  {
   "cell_type": "markdown",
   "id": "e61b979f",
   "metadata": {},
   "source": [
    "### Statistical description of the data"
   ]
  },
  {
   "cell_type": "code",
   "execution_count": 9,
   "id": "7bf3fca8",
   "metadata": {},
   "outputs": [
    {
     "data": {
      "text/html": [
       "<div>\n",
       "<style scoped>\n",
       "    .dataframe tbody tr th:only-of-type {\n",
       "        vertical-align: middle;\n",
       "    }\n",
       "\n",
       "    .dataframe tbody tr th {\n",
       "        vertical-align: top;\n",
       "    }\n",
       "\n",
       "    .dataframe thead th {\n",
       "        text-align: right;\n",
       "    }\n",
       "</style>\n",
       "<table border=\"1\" class=\"dataframe\">\n",
       "  <thead>\n",
       "    <tr style=\"text-align: right;\">\n",
       "      <th></th>\n",
       "      <th>pH</th>\n",
       "      <th>Temprature</th>\n",
       "      <th>Taste</th>\n",
       "      <th>Odor</th>\n",
       "      <th>Fat</th>\n",
       "      <th>Turbidity</th>\n",
       "      <th>Colour</th>\n",
       "      <th>Grade</th>\n",
       "    </tr>\n",
       "  </thead>\n",
       "  <tbody>\n",
       "    <tr>\n",
       "      <th>count</th>\n",
       "      <td>1059.000000</td>\n",
       "      <td>1059.000000</td>\n",
       "      <td>1059.000000</td>\n",
       "      <td>1059.000000</td>\n",
       "      <td>1059.000000</td>\n",
       "      <td>1059.000000</td>\n",
       "      <td>1059.000000</td>\n",
       "      <td>1059.000000</td>\n",
       "    </tr>\n",
       "    <tr>\n",
       "      <th>mean</th>\n",
       "      <td>6.630123</td>\n",
       "      <td>44.226629</td>\n",
       "      <td>0.546742</td>\n",
       "      <td>0.432483</td>\n",
       "      <td>0.671388</td>\n",
       "      <td>0.491029</td>\n",
       "      <td>251.840415</td>\n",
       "      <td>0.836638</td>\n",
       "    </tr>\n",
       "    <tr>\n",
       "      <th>std</th>\n",
       "      <td>1.399679</td>\n",
       "      <td>10.098364</td>\n",
       "      <td>0.498046</td>\n",
       "      <td>0.495655</td>\n",
       "      <td>0.469930</td>\n",
       "      <td>0.500156</td>\n",
       "      <td>4.307424</td>\n",
       "      <td>0.787868</td>\n",
       "    </tr>\n",
       "    <tr>\n",
       "      <th>min</th>\n",
       "      <td>3.000000</td>\n",
       "      <td>34.000000</td>\n",
       "      <td>0.000000</td>\n",
       "      <td>0.000000</td>\n",
       "      <td>0.000000</td>\n",
       "      <td>0.000000</td>\n",
       "      <td>240.000000</td>\n",
       "      <td>0.000000</td>\n",
       "    </tr>\n",
       "    <tr>\n",
       "      <th>25%</th>\n",
       "      <td>6.500000</td>\n",
       "      <td>38.000000</td>\n",
       "      <td>0.000000</td>\n",
       "      <td>0.000000</td>\n",
       "      <td>0.000000</td>\n",
       "      <td>0.000000</td>\n",
       "      <td>250.000000</td>\n",
       "      <td>0.000000</td>\n",
       "    </tr>\n",
       "    <tr>\n",
       "      <th>50%</th>\n",
       "      <td>6.700000</td>\n",
       "      <td>41.000000</td>\n",
       "      <td>1.000000</td>\n",
       "      <td>0.000000</td>\n",
       "      <td>1.000000</td>\n",
       "      <td>0.000000</td>\n",
       "      <td>255.000000</td>\n",
       "      <td>1.000000</td>\n",
       "    </tr>\n",
       "    <tr>\n",
       "      <th>75%</th>\n",
       "      <td>6.800000</td>\n",
       "      <td>45.000000</td>\n",
       "      <td>1.000000</td>\n",
       "      <td>1.000000</td>\n",
       "      <td>1.000000</td>\n",
       "      <td>1.000000</td>\n",
       "      <td>255.000000</td>\n",
       "      <td>1.000000</td>\n",
       "    </tr>\n",
       "    <tr>\n",
       "      <th>max</th>\n",
       "      <td>9.500000</td>\n",
       "      <td>90.000000</td>\n",
       "      <td>1.000000</td>\n",
       "      <td>1.000000</td>\n",
       "      <td>1.000000</td>\n",
       "      <td>1.000000</td>\n",
       "      <td>255.000000</td>\n",
       "      <td>2.000000</td>\n",
       "    </tr>\n",
       "  </tbody>\n",
       "</table>\n",
       "</div>"
      ],
      "text/plain": [
       "                pH   Temprature        Taste         Odor         Fat   \\\n",
       "count  1059.000000  1059.000000  1059.000000  1059.000000  1059.000000   \n",
       "mean      6.630123    44.226629     0.546742     0.432483     0.671388   \n",
       "std       1.399679    10.098364     0.498046     0.495655     0.469930   \n",
       "min       3.000000    34.000000     0.000000     0.000000     0.000000   \n",
       "25%       6.500000    38.000000     0.000000     0.000000     0.000000   \n",
       "50%       6.700000    41.000000     1.000000     0.000000     1.000000   \n",
       "75%       6.800000    45.000000     1.000000     1.000000     1.000000   \n",
       "max       9.500000    90.000000     1.000000     1.000000     1.000000   \n",
       "\n",
       "         Turbidity       Colour        Grade  \n",
       "count  1059.000000  1059.000000  1059.000000  \n",
       "mean      0.491029   251.840415     0.836638  \n",
       "std       0.500156     4.307424     0.787868  \n",
       "min       0.000000   240.000000     0.000000  \n",
       "25%       0.000000   250.000000     0.000000  \n",
       "50%       0.000000   255.000000     1.000000  \n",
       "75%       1.000000   255.000000     1.000000  \n",
       "max       1.000000   255.000000     2.000000  "
      ]
     },
     "execution_count": 9,
     "metadata": {},
     "output_type": "execute_result"
    }
   ],
   "source": [
    "df.describe()"
   ]
  },
  {
   "cell_type": "code",
   "execution_count": 10,
   "id": "923d2e66",
   "metadata": {},
   "outputs": [
    {
     "data": {
      "text/html": [
       "<div>\n",
       "<style scoped>\n",
       "    .dataframe tbody tr th:only-of-type {\n",
       "        vertical-align: middle;\n",
       "    }\n",
       "\n",
       "    .dataframe tbody tr th {\n",
       "        vertical-align: top;\n",
       "    }\n",
       "\n",
       "    .dataframe thead th {\n",
       "        text-align: right;\n",
       "    }\n",
       "</style>\n",
       "<table border=\"1\" class=\"dataframe\">\n",
       "  <thead>\n",
       "    <tr style=\"text-align: right;\">\n",
       "      <th></th>\n",
       "      <th>pH</th>\n",
       "      <th>Temprature</th>\n",
       "      <th>Taste</th>\n",
       "      <th>Odor</th>\n",
       "      <th>Fat</th>\n",
       "      <th>Turbidity</th>\n",
       "      <th>Colour</th>\n",
       "      <th>Grade</th>\n",
       "    </tr>\n",
       "  </thead>\n",
       "  <tbody>\n",
       "    <tr>\n",
       "      <th>pH</th>\n",
       "      <td>1.000000</td>\n",
       "      <td>0.244684</td>\n",
       "      <td>-0.064053</td>\n",
       "      <td>-0.081331</td>\n",
       "      <td>-0.093429</td>\n",
       "      <td>0.048384</td>\n",
       "      <td>-0.164565</td>\n",
       "      <td>0.028980</td>\n",
       "    </tr>\n",
       "    <tr>\n",
       "      <th>Temprature</th>\n",
       "      <td>0.244684</td>\n",
       "      <td>1.000000</td>\n",
       "      <td>-0.109792</td>\n",
       "      <td>-0.048870</td>\n",
       "      <td>0.024073</td>\n",
       "      <td>0.185106</td>\n",
       "      <td>-0.008511</td>\n",
       "      <td>-0.417789</td>\n",
       "    </tr>\n",
       "    <tr>\n",
       "      <th>Taste</th>\n",
       "      <td>-0.064053</td>\n",
       "      <td>-0.109792</td>\n",
       "      <td>1.000000</td>\n",
       "      <td>0.017582</td>\n",
       "      <td>0.324149</td>\n",
       "      <td>0.055755</td>\n",
       "      <td>-0.082654</td>\n",
       "      <td>0.025500</td>\n",
       "    </tr>\n",
       "    <tr>\n",
       "      <th>Odor</th>\n",
       "      <td>-0.081331</td>\n",
       "      <td>-0.048870</td>\n",
       "      <td>0.017582</td>\n",
       "      <td>1.000000</td>\n",
       "      <td>0.314505</td>\n",
       "      <td>0.457935</td>\n",
       "      <td>-0.039361</td>\n",
       "      <td>0.149626</td>\n",
       "    </tr>\n",
       "    <tr>\n",
       "      <th>Fat</th>\n",
       "      <td>-0.093429</td>\n",
       "      <td>0.024073</td>\n",
       "      <td>0.324149</td>\n",
       "      <td>0.314505</td>\n",
       "      <td>1.000000</td>\n",
       "      <td>0.329264</td>\n",
       "      <td>0.114151</td>\n",
       "      <td>0.151002</td>\n",
       "    </tr>\n",
       "    <tr>\n",
       "      <th>Turbidity</th>\n",
       "      <td>0.048384</td>\n",
       "      <td>0.185106</td>\n",
       "      <td>0.055755</td>\n",
       "      <td>0.457935</td>\n",
       "      <td>0.329264</td>\n",
       "      <td>1.000000</td>\n",
       "      <td>0.136436</td>\n",
       "      <td>-0.153634</td>\n",
       "    </tr>\n",
       "    <tr>\n",
       "      <th>Colour</th>\n",
       "      <td>-0.164565</td>\n",
       "      <td>-0.008511</td>\n",
       "      <td>-0.082654</td>\n",
       "      <td>-0.039361</td>\n",
       "      <td>0.114151</td>\n",
       "      <td>0.136436</td>\n",
       "      <td>1.000000</td>\n",
       "      <td>-0.056986</td>\n",
       "    </tr>\n",
       "    <tr>\n",
       "      <th>Grade</th>\n",
       "      <td>0.028980</td>\n",
       "      <td>-0.417789</td>\n",
       "      <td>0.025500</td>\n",
       "      <td>0.149626</td>\n",
       "      <td>0.151002</td>\n",
       "      <td>-0.153634</td>\n",
       "      <td>-0.056986</td>\n",
       "      <td>1.000000</td>\n",
       "    </tr>\n",
       "  </tbody>\n",
       "</table>\n",
       "</div>"
      ],
      "text/plain": [
       "                  pH  Temprature     Taste      Odor      Fat   Turbidity  \\\n",
       "pH          1.000000    0.244684 -0.064053 -0.081331 -0.093429   0.048384   \n",
       "Temprature  0.244684    1.000000 -0.109792 -0.048870  0.024073   0.185106   \n",
       "Taste      -0.064053   -0.109792  1.000000  0.017582  0.324149   0.055755   \n",
       "Odor       -0.081331   -0.048870  0.017582  1.000000  0.314505   0.457935   \n",
       "Fat        -0.093429    0.024073  0.324149  0.314505  1.000000   0.329264   \n",
       "Turbidity   0.048384    0.185106  0.055755  0.457935  0.329264   1.000000   \n",
       "Colour     -0.164565   -0.008511 -0.082654 -0.039361  0.114151   0.136436   \n",
       "Grade       0.028980   -0.417789  0.025500  0.149626  0.151002  -0.153634   \n",
       "\n",
       "              Colour     Grade  \n",
       "pH         -0.164565  0.028980  \n",
       "Temprature -0.008511 -0.417789  \n",
       "Taste      -0.082654  0.025500  \n",
       "Odor       -0.039361  0.149626  \n",
       "Fat         0.114151  0.151002  \n",
       "Turbidity   0.136436 -0.153634  \n",
       "Colour      1.000000 -0.056986  \n",
       "Grade      -0.056986  1.000000  "
      ]
     },
     "execution_count": 10,
     "metadata": {},
     "output_type": "execute_result"
    }
   ],
   "source": [
    "df.corr()"
   ]
  },
  {
   "cell_type": "code",
   "execution_count": 11,
   "id": "c5244baf",
   "metadata": {},
   "outputs": [
    {
     "data": {
      "text/plain": [
       "<AxesSubplot:>"
      ]
     },
     "execution_count": 11,
     "metadata": {},
     "output_type": "execute_result"
    },
    {
     "data": {
      "image/png": "[encoded data removed]",
      "text/plain": [
       "<Figure size 720x360 with 2 Axes>"
      ]
     },
     "metadata": {
      "needs_background": "light"
     },
     "output_type": "display_data"
    }
   ],
   "source": [
    "plt.figure(figsize=(10,5))\n",
    "sns.heatmap(df.corr(),annot=True)"
   ]
  },
  {
   "cell_type": "markdown",
   "id": "97233067",
   "metadata": {},
   "source": [
    "We can see that 'Turbidity' and 'Odor' have strong positive correlation.\n",
    "\n",
    "And 'Temperature' and 'Grade' have strong negative correlation."
   ]
  },
  {
   "cell_type": "markdown",
   "id": "a0637fc8",
   "metadata": {},
   "source": [
    "### Graphical analysis"
   ]
  },
  {
   "cell_type": "code",
   "execution_count": 12,
   "id": "53f16dcd",
   "metadata": {},
   "outputs": [
    {
     "data": {
      "image/png": "[encoded data removed]",
      "text/plain": [
       "<Figure size 1080x720 with 7 Axes>"
      ]
     },
     "metadata": {
      "needs_background": "light"
     },
     "output_type": "display_data"
    }
   ],
   "source": [
    "countplot_list = [\"Colour\",\"Turbidity\",\"Odor\",\"Taste\",\"pH\",\"Fat \",\"Temprature\"]\n",
    "plt.figure(figsize=(15,10))\n",
    "x=1\n",
    "for i in countplot_list:\n",
    "    plt.subplot(3,3,x)\n",
    "    sns.barplot(x=i,y='Grade',data=df)\n",
    "    x = x + 1\n",
    "plt.tight_layout()"
   ]
  },
  {
   "cell_type": "code",
   "execution_count": 13,
   "id": "9fe6f799",
   "metadata": {},
   "outputs": [
    {
     "data": {
      "text/plain": [
       "<seaborn.axisgrid.PairGrid at 0x1f0d9b4a2e0>"
      ]
     },
     "execution_count": 13,
     "metadata": {},
     "output_type": "execute_result"
    },
    {
     "data": {
      "image/png": "[encoded data removed]",
      "text/plain": [
       "<Figure size 1440x1440 with 72 Axes>"
      ]
     },
     "metadata": {
      "needs_background": "light"
     },
     "output_type": "display_data"
    }
   ],
   "source": [
    "sns.pairplot(df,palette=\"rocket\")"
   ]
  },
  {
   "cell_type": "markdown",
   "id": "b9eb7183",
   "metadata": {
    "papermill": {
     "duration": 0.026508,
     "end_time": "2022-08-16T06:50:58.113039",
     "exception": false,
     "start_time": "2022-08-16T06:50:58.086531",
     "status": "completed"
    },
    "tags": []
   },
   "source": [
    "# Modelling"
   ]
  },
  {
   "cell_type": "code",
   "execution_count": 14,
   "id": "6b38b6a4",
   "metadata": {
    "execution": {
     "iopub.execute_input": "2022-08-16T06:50:58.224816Z",
     "iopub.status.busy": "2022-08-16T06:50:58.224100Z",
     "iopub.status.idle": "2022-08-16T06:50:58.671070Z",
     "shell.execute_reply": "2022-08-16T06:50:58.669968Z"
    },
    "papermill": {
     "duration": 0.478141,
     "end_time": "2022-08-16T06:50:58.673931",
     "exception": false,
     "start_time": "2022-08-16T06:50:58.195790",
     "status": "completed"
    },
    "tags": []
   },
   "outputs": [],
   "source": [
    "from sklearn.linear_model import LinearRegression\n",
    "from sklearn.linear_model import LogisticRegression\n",
    "from sklearn.ensemble import RandomForestClassifier\n",
    "from sklearn.neighbors import KNeighborsClassifier\n",
    "from sklearn.tree import DecisionTreeClassifier\n",
    "\n",
    "from sklearn.metrics import make_scorer, accuracy_score, roc_auc_score \n",
    "from sklearn.model_selection import GridSearchCV\n",
    "from sklearn.model_selection import train_test_split\n",
    "from sklearn.metrics import classification_report\n",
    "from sklearn.metrics import confusion_matrix\n",
    "from sklearn import metrics"
   ]
  },
  {
   "cell_type": "code",
   "execution_count": 15,
   "id": "208b6b72",
   "metadata": {
    "execution": {
     "iopub.execute_input": "2022-08-16T06:50:58.785569Z",
     "iopub.status.busy": "2022-08-16T06:50:58.785126Z",
     "iopub.status.idle": "2022-08-16T06:50:58.799583Z",
     "shell.execute_reply": "2022-08-16T06:50:58.798335Z"
    },
    "papermill": {
     "duration": 0.045802,
     "end_time": "2022-08-16T06:50:58.801892",
     "exception": false,
     "start_time": "2022-08-16T06:50:58.756090",
     "status": "completed"
    },
    "tags": []
   },
   "outputs": [
    {
     "data": {
      "text/html": [
       "<div>\n",
       "<style scoped>\n",
       "    .dataframe tbody tr th:only-of-type {\n",
       "        vertical-align: middle;\n",
       "    }\n",
       "\n",
       "    .dataframe tbody tr th {\n",
       "        vertical-align: top;\n",
       "    }\n",
       "\n",
       "    .dataframe thead th {\n",
       "        text-align: right;\n",
       "    }\n",
       "</style>\n",
       "<table border=\"1\" class=\"dataframe\">\n",
       "  <thead>\n",
       "    <tr style=\"text-align: right;\">\n",
       "      <th></th>\n",
       "      <th>pH</th>\n",
       "      <th>Temprature</th>\n",
       "      <th>Taste</th>\n",
       "      <th>Odor</th>\n",
       "      <th>Fat</th>\n",
       "      <th>Turbidity</th>\n",
       "      <th>Colour</th>\n",
       "    </tr>\n",
       "  </thead>\n",
       "  <tbody>\n",
       "    <tr>\n",
       "      <th>0</th>\n",
       "      <td>6.6</td>\n",
       "      <td>35</td>\n",
       "      <td>1</td>\n",
       "      <td>0</td>\n",
       "      <td>1</td>\n",
       "      <td>0</td>\n",
       "      <td>254</td>\n",
       "    </tr>\n",
       "    <tr>\n",
       "      <th>1</th>\n",
       "      <td>6.6</td>\n",
       "      <td>36</td>\n",
       "      <td>0</td>\n",
       "      <td>1</td>\n",
       "      <td>0</td>\n",
       "      <td>1</td>\n",
       "      <td>253</td>\n",
       "    </tr>\n",
       "    <tr>\n",
       "      <th>2</th>\n",
       "      <td>8.5</td>\n",
       "      <td>70</td>\n",
       "      <td>1</td>\n",
       "      <td>1</td>\n",
       "      <td>1</td>\n",
       "      <td>1</td>\n",
       "      <td>246</td>\n",
       "    </tr>\n",
       "    <tr>\n",
       "      <th>3</th>\n",
       "      <td>9.5</td>\n",
       "      <td>34</td>\n",
       "      <td>1</td>\n",
       "      <td>1</td>\n",
       "      <td>0</td>\n",
       "      <td>1</td>\n",
       "      <td>255</td>\n",
       "    </tr>\n",
       "    <tr>\n",
       "      <th>4</th>\n",
       "      <td>6.6</td>\n",
       "      <td>37</td>\n",
       "      <td>0</td>\n",
       "      <td>0</td>\n",
       "      <td>0</td>\n",
       "      <td>0</td>\n",
       "      <td>255</td>\n",
       "    </tr>\n",
       "  </tbody>\n",
       "</table>\n",
       "</div>"
      ],
      "text/plain": [
       "    pH  Temprature  Taste  Odor  Fat   Turbidity  Colour\n",
       "0  6.6          35      1     0     1          0     254\n",
       "1  6.6          36      0     1     0          1     253\n",
       "2  8.5          70      1     1     1          1     246\n",
       "3  9.5          34      1     1     0          1     255\n",
       "4  6.6          37      0     0     0          0     255"
      ]
     },
     "execution_count": 15,
     "metadata": {},
     "output_type": "execute_result"
    }
   ],
   "source": [
    "x=df.iloc[:,:7]\n",
    "x.head()"
   ]
  },
  {
   "cell_type": "code",
   "execution_count": 16,
   "id": "81f25bf6",
   "metadata": {
    "execution": {
     "iopub.execute_input": "2022-08-16T06:50:58.858411Z",
     "iopub.status.busy": "2022-08-16T06:50:58.857103Z",
     "iopub.status.idle": "2022-08-16T06:50:58.865830Z",
     "shell.execute_reply": "2022-08-16T06:50:58.864861Z"
    },
    "papermill": {
     "duration": 0.038911,
     "end_time": "2022-08-16T06:50:58.868058",
     "exception": false,
     "start_time": "2022-08-16T06:50:58.829147",
     "status": "completed"
    },
    "tags": []
   },
   "outputs": [
    {
     "data": {
      "text/plain": [
       "0    2\n",
       "1    2\n",
       "2    0\n",
       "3    0\n",
       "4    1\n",
       "Name: Grade, dtype: int32"
      ]
     },
     "execution_count": 16,
     "metadata": {},
     "output_type": "execute_result"
    }
   ],
   "source": [
    "y=df.iloc[:,7]\n",
    "y.head()"
   ]
  },
  {
   "cell_type": "code",
   "execution_count": 17,
   "id": "01d0f191",
   "metadata": {
    "execution": {
     "iopub.execute_input": "2022-08-16T06:50:58.925096Z",
     "iopub.status.busy": "2022-08-16T06:50:58.924627Z",
     "iopub.status.idle": "2022-08-16T06:50:58.931973Z",
     "shell.execute_reply": "2022-08-16T06:50:58.930881Z"
    },
    "papermill": {
     "duration": 0.038927,
     "end_time": "2022-08-16T06:50:58.934131",
     "exception": false,
     "start_time": "2022-08-16T06:50:58.895204",
     "status": "completed"
    },
    "tags": []
   },
   "outputs": [
    {
     "data": {
      "text/plain": [
       "pandas.core.frame.DataFrame"
      ]
     },
     "execution_count": 17,
     "metadata": {},
     "output_type": "execute_result"
    }
   ],
   "source": [
    "type(df)"
   ]
  },
  {
   "cell_type": "markdown",
   "id": "29eaa882",
   "metadata": {
    "papermill": {
     "duration": 0.027122,
     "end_time": "2022-08-16T06:50:58.988202",
     "exception": false,
     "start_time": "2022-08-16T06:50:58.961080",
     "status": "completed"
    },
    "tags": []
   },
   "source": [
    "We will use 80% of data for training and 20% for testing."
   ]
  },
  {
   "cell_type": "markdown",
   "id": "6cf683a2",
   "metadata": {
    "papermill": {
     "duration": 0.026644,
     "end_time": "2022-08-16T06:50:59.042399",
     "exception": false,
     "start_time": "2022-08-16T06:50:59.015755",
     "status": "completed"
    },
    "tags": []
   },
   "source": [
    "## Linear Regression"
   ]
  },
  {
   "cell_type": "code",
   "execution_count": 18,
   "id": "4ae81d63",
   "metadata": {
    "execution": {
     "iopub.execute_input": "2022-08-16T06:50:59.099297Z",
     "iopub.status.busy": "2022-08-16T06:50:59.098837Z",
     "iopub.status.idle": "2022-08-16T06:50:59.114460Z",
     "shell.execute_reply": "2022-08-16T06:50:59.113523Z"
    },
    "papermill": {
     "duration": 0.046771,
     "end_time": "2022-08-16T06:50:59.116773",
     "exception": false,
     "start_time": "2022-08-16T06:50:59.070002",
     "status": "completed"
    },
    "tags": []
   },
   "outputs": [
    {
     "data": {
      "text/html": [
       "<div>\n",
       "<style scoped>\n",
       "    .dataframe tbody tr th:only-of-type {\n",
       "        vertical-align: middle;\n",
       "    }\n",
       "\n",
       "    .dataframe tbody tr th {\n",
       "        vertical-align: top;\n",
       "    }\n",
       "\n",
       "    .dataframe thead th {\n",
       "        text-align: right;\n",
       "    }\n",
       "</style>\n",
       "<table border=\"1\" class=\"dataframe\">\n",
       "  <thead>\n",
       "    <tr style=\"text-align: right;\">\n",
       "      <th></th>\n",
       "      <th>pH</th>\n",
       "      <th>Temprature</th>\n",
       "      <th>Taste</th>\n",
       "      <th>Odor</th>\n",
       "      <th>Fat</th>\n",
       "      <th>Turbidity</th>\n",
       "      <th>Colour</th>\n",
       "    </tr>\n",
       "  </thead>\n",
       "  <tbody>\n",
       "    <tr>\n",
       "      <th>971</th>\n",
       "      <td>3.0</td>\n",
       "      <td>40</td>\n",
       "      <td>1</td>\n",
       "      <td>1</td>\n",
       "      <td>1</td>\n",
       "      <td>1</td>\n",
       "      <td>255</td>\n",
       "    </tr>\n",
       "    <tr>\n",
       "      <th>838</th>\n",
       "      <td>6.8</td>\n",
       "      <td>40</td>\n",
       "      <td>1</td>\n",
       "      <td>0</td>\n",
       "      <td>1</td>\n",
       "      <td>0</td>\n",
       "      <td>245</td>\n",
       "    </tr>\n",
       "    <tr>\n",
       "      <th>336</th>\n",
       "      <td>8.1</td>\n",
       "      <td>66</td>\n",
       "      <td>1</td>\n",
       "      <td>0</td>\n",
       "      <td>1</td>\n",
       "      <td>1</td>\n",
       "      <td>255</td>\n",
       "    </tr>\n",
       "    <tr>\n",
       "      <th>20</th>\n",
       "      <td>6.6</td>\n",
       "      <td>45</td>\n",
       "      <td>0</td>\n",
       "      <td>1</td>\n",
       "      <td>1</td>\n",
       "      <td>1</td>\n",
       "      <td>250</td>\n",
       "    </tr>\n",
       "    <tr>\n",
       "      <th>621</th>\n",
       "      <td>6.8</td>\n",
       "      <td>45</td>\n",
       "      <td>1</td>\n",
       "      <td>1</td>\n",
       "      <td>1</td>\n",
       "      <td>0</td>\n",
       "      <td>245</td>\n",
       "    </tr>\n",
       "  </tbody>\n",
       "</table>\n",
       "</div>"
      ],
      "text/plain": [
       "      pH  Temprature  Taste  Odor  Fat   Turbidity  Colour\n",
       "971  3.0          40      1     1     1          1     255\n",
       "838  6.8          40      1     0     1          0     245\n",
       "336  8.1          66      1     0     1          1     255\n",
       "20   6.6          45      0     1     1          1     250\n",
       "621  6.8          45      1     1     1          0     245"
      ]
     },
     "execution_count": 18,
     "metadata": {},
     "output_type": "execute_result"
    }
   ],
   "source": [
    "x_train,x_test,y_train,y_test = train_test_split(x,y,test_size=0.2)\n",
    "x_train.head()"
   ]
  },
  {
   "cell_type": "code",
   "execution_count": 19,
   "id": "a7c1b383",
   "metadata": {
    "execution": {
     "iopub.execute_input": "2022-08-16T06:50:59.176202Z",
     "iopub.status.busy": "2022-08-16T06:50:59.175770Z",
     "iopub.status.idle": "2022-08-16T06:50:59.205250Z",
     "shell.execute_reply": "2022-08-16T06:50:59.204011Z"
    },
    "papermill": {
     "duration": 0.061988,
     "end_time": "2022-08-16T06:50:59.208147",
     "exception": false,
     "start_time": "2022-08-16T06:50:59.146159",
     "status": "completed"
    },
    "tags": []
   },
   "outputs": [
    {
     "data": {
      "text/plain": [
       "LinearRegression()"
      ]
     },
     "execution_count": 19,
     "metadata": {},
     "output_type": "execute_result"
    }
   ],
   "source": [
    "LinReg=LinearRegression()\n",
    "LinReg.fit(x_train,y_train)"
   ]
  },
  {
   "cell_type": "code",
   "execution_count": 20,
   "id": "a1b05076",
   "metadata": {
    "execution": {
     "iopub.execute_input": "2022-08-16T06:50:59.265550Z",
     "iopub.status.busy": "2022-08-16T06:50:59.265055Z",
     "iopub.status.idle": "2022-08-16T06:50:59.278378Z",
     "shell.execute_reply": "2022-08-16T06:50:59.277070Z"
    },
    "papermill": {
     "duration": 0.045186,
     "end_time": "2022-08-16T06:50:59.281036",
     "exception": false,
     "start_time": "2022-08-16T06:50:59.235850",
     "status": "completed"
    },
    "scrolled": true,
    "tags": []
   },
   "outputs": [
    {
     "data": {
      "text/plain": [
       "array([ 1.04005177,  0.27501122,  0.86454317,  0.27501122,  0.94434979,\n",
       "        1.02309533,  0.89780465,  0.91598836,  1.16662813,  0.87520936,\n",
       "        1.07144974,  0.7924685 ,  0.89780465,  0.95858167,  1.28677498,\n",
       "        1.23903423,  0.00925088,  0.44948245,  0.27174606,  1.07144974,\n",
       "        0.87520936,  0.6278104 ,  1.18953466,  1.15629337,  1.16662813,\n",
       "        1.63803929,  1.19955818,  1.14938793,  0.36489174,  1.02919341,\n",
       "        0.87705921,  1.04005177,  1.25298075,  0.27501122,  1.19955818,\n",
       "        0.04913614,  1.18953466,  1.14938793,  0.82760748,  1.02309533,\n",
       "        0.88608289,  0.94108463,  0.93261337,  1.14938793,  0.74401277,\n",
       "        1.63803929,  0.04913614,  0.94434979,  0.7924685 ,  1.15624628,\n",
       "        1.15624628,  0.2301039 ,  0.36489174, -0.85341362,  1.15629337,\n",
       "        0.06877615,  1.14938793, -0.85341362,  0.62902492,  0.9371606 ,\n",
       "        0.91598836,  0.04913614,  1.02309533,  0.97073384,  0.89780465,\n",
       "        0.91598836,  0.95858167,  0.95858167,  0.87705921, -0.85341362,\n",
       "        0.93261337,  0.6556824 ,  1.07144974,  0.9371606 ,  0.87705921,\n",
       "        0.89780465,  0.64387298,  1.29455956,  0.94434979,  0.94108463,\n",
       "        1.15624628,  0.80107502,  0.87520936,  0.79708874,  0.79246064,\n",
       "        0.94434979,  1.17696289,  0.80107502,  1.11471455,  0.36489174,\n",
       "        0.7924685 ,  0.90675241,  0.91598836,  0.95858167,  1.1541906 ,\n",
       "        0.91598836,  1.19955818,  0.86454317,  0.27174606,  0.06877615,\n",
       "        1.63803929,  0.97026765,  0.87705921,  0.94108463,  1.03659393,\n",
       "        0.94434979,  0.95858167, -0.05428926,  0.80107502,  0.06877615,\n",
       "        0.44948245,  0.62902492,  1.63803929,  0.06877615,  0.64387298,\n",
       "        1.12212474,  1.28677498,  0.91598836,  1.29455956,  1.02309533,\n",
       "        0.97026765,  1.15624628,  0.64387298,  1.15624628,  0.9371606 ,\n",
       "        1.14938793,  0.27501122,  1.11471455,  1.29710974,  0.64387298,\n",
       "        0.80107502,  0.68945484,  1.18953466,  1.07144974,  0.04913614,\n",
       "        1.29455956,  0.44948245,  0.91598836,  0.87705921,  0.93261337,\n",
       "        0.33760615,  0.10709582,  1.02919341,  1.29710974,  0.90675241,\n",
       "        0.94434979,  0.06877615,  0.9371606 ,  0.64387298,  0.36489174,\n",
       "        0.95858167,  1.15624628,  0.64387298,  0.68945484,  1.28677498,\n",
       "        0.94108463,  0.00925088,  1.15629337,  1.63803929,  0.68945484,\n",
       "        0.89780465,  0.87520936,  0.64387298,  0.27174606,  0.6556824 ,\n",
       "        0.95858167,  0.97026765,  1.29455956,  0.44948245,  1.09178835,\n",
       "        0.79708874,  0.6556824 ,  0.89780465,  1.15629337,  1.28641136,\n",
       "        0.87520936,  0.82760748,  0.87705921,  1.28641136,  0.27501122,\n",
       "        0.95858167,  0.91598836,  0.94434979,  0.74401277,  1.19955818,\n",
       "        1.02309533,  1.15624628,  0.89780465,  0.2301039 ,  1.15629337,\n",
       "        0.74219486,  0.68945484,  0.94434979,  1.07144974,  1.17696289,\n",
       "        1.63803929,  0.91598836,  0.04913614,  0.00925088,  1.15624628,\n",
       "        0.94108463,  0.87705921,  0.27501122,  0.93261337,  1.28641136,\n",
       "        1.15624628,  0.89587888,  0.66878531,  1.15624628,  1.18953466,\n",
       "        1.14938793,  0.87520936])"
      ]
     },
     "execution_count": 20,
     "metadata": {},
     "output_type": "execute_result"
    }
   ],
   "source": [
    "y_predicts =LinReg.predict(x_test)\n",
    "y_predicts"
   ]
  },
  {
   "cell_type": "markdown",
   "id": "52afbcc6",
   "metadata": {},
   "source": [
    "Accuracy of testing dataset (Linear regression)"
   ]
  },
  {
   "cell_type": "code",
   "execution_count": 21,
   "id": "755a9f4a",
   "metadata": {
    "execution": {
     "iopub.execute_input": "2022-08-16T06:50:59.339390Z",
     "iopub.status.busy": "2022-08-16T06:50:59.338943Z",
     "iopub.status.idle": "2022-08-16T06:50:59.349913Z",
     "shell.execute_reply": "2022-08-16T06:50:59.348738Z"
    },
    "papermill": {
     "duration": 0.043604,
     "end_time": "2022-08-16T06:50:59.352389",
     "exception": false,
     "start_time": "2022-08-16T06:50:59.308785",
     "status": "completed"
    },
    "tags": []
   },
   "outputs": [
    {
     "data": {
      "text/plain": [
       "0.24230510618458045"
      ]
     },
     "execution_count": 21,
     "metadata": {},
     "output_type": "execute_result"
    }
   ],
   "source": [
    "LinReg.score(x_test,y_test)"
   ]
  },
  {
   "cell_type": "markdown",
   "id": "7b51db87",
   "metadata": {},
   "source": [
    "Accuracy of training dataset (Linear regression)"
   ]
  },
  {
   "cell_type": "code",
   "execution_count": 22,
   "id": "8a466058",
   "metadata": {
    "execution": {
     "iopub.execute_input": "2022-08-16T06:50:59.409481Z",
     "iopub.status.busy": "2022-08-16T06:50:59.409031Z",
     "iopub.status.idle": "2022-08-16T06:50:59.418610Z",
     "shell.execute_reply": "2022-08-16T06:50:59.417450Z"
    },
    "papermill": {
     "duration": 0.040819,
     "end_time": "2022-08-16T06:50:59.420856",
     "exception": false,
     "start_time": "2022-08-16T06:50:59.380037",
     "status": "completed"
    },
    "tags": []
   },
   "outputs": [
    {
     "data": {
      "text/plain": [
       "0.28237353937131404"
      ]
     },
     "execution_count": 22,
     "metadata": {},
     "output_type": "execute_result"
    }
   ],
   "source": [
    "LinReg.score(x_train,y_train)"
   ]
  },
  {
   "cell_type": "markdown",
   "id": "b29e1e9b",
   "metadata": {
    "papermill": {
     "duration": 0.027916,
     "end_time": "2022-08-16T06:50:59.477050",
     "exception": false,
     "start_time": "2022-08-16T06:50:59.449134",
     "status": "completed"
    },
    "tags": []
   },
   "source": [
    "## Logistic Regression"
   ]
  },
  {
   "cell_type": "code",
   "execution_count": 23,
   "id": "8f4ec251",
   "metadata": {
    "execution": {
     "iopub.execute_input": "2022-08-16T06:50:59.535438Z",
     "iopub.status.busy": "2022-08-16T06:50:59.534479Z",
     "iopub.status.idle": "2022-08-16T06:50:59.601684Z",
     "shell.execute_reply": "2022-08-16T06:50:59.600453Z"
    },
    "papermill": {
     "duration": 0.09928,
     "end_time": "2022-08-16T06:50:59.604252",
     "exception": false,
     "start_time": "2022-08-16T06:50:59.504972",
     "status": "completed"
    },
    "tags": []
   },
   "outputs": [
    {
     "data": {
      "text/plain": [
       "LogisticRegression()"
      ]
     },
     "execution_count": 23,
     "metadata": {},
     "output_type": "execute_result"
    }
   ],
   "source": [
    "LR = LogisticRegression()\n",
    "LR.fit(x_train,y_train)"
   ]
  },
  {
   "cell_type": "code",
   "execution_count": 24,
   "id": "e981db0e",
   "metadata": {
    "execution": {
     "iopub.execute_input": "2022-08-16T06:50:59.662270Z",
     "iopub.status.busy": "2022-08-16T06:50:59.661394Z",
     "iopub.status.idle": "2022-08-16T06:50:59.671479Z",
     "shell.execute_reply": "2022-08-16T06:50:59.670468Z"
    },
    "papermill": {
     "duration": 0.041648,
     "end_time": "2022-08-16T06:50:59.673862",
     "exception": false,
     "start_time": "2022-08-16T06:50:59.632214",
     "status": "completed"
    },
    "scrolled": true,
    "tags": []
   },
   "outputs": [
    {
     "data": {
      "text/plain": [
       "array([1, 0, 1, 0, 0, 1, 1, 1, 1, 1, 2, 1, 1, 1, 2, 1, 0, 0, 0, 2, 1, 0,\n",
       "       2, 1, 1, 2, 1, 1, 0, 1, 0, 1, 2, 0, 1, 0, 2, 1, 1, 1, 0, 0, 1, 1,\n",
       "       1, 2, 0, 0, 1, 1, 1, 0, 0, 0, 1, 0, 1, 0, 0, 2, 1, 0, 1, 2, 1, 1,\n",
       "       1, 1, 0, 0, 1, 0, 2, 2, 0, 1, 0, 1, 0, 0, 1, 0, 1, 1, 0, 0, 1, 0,\n",
       "       2, 0, 1, 0, 1, 1, 2, 1, 1, 1, 0, 0, 2, 2, 0, 0, 2, 0, 1, 0, 0, 0,\n",
       "       0, 0, 2, 0, 0, 0, 2, 1, 1, 1, 2, 1, 0, 1, 2, 1, 0, 2, 2, 0, 0, 1,\n",
       "       2, 2, 0, 1, 0, 1, 0, 1, 0, 0, 1, 2, 0, 0, 0, 2, 0, 0, 1, 1, 0, 1,\n",
       "       2, 0, 0, 1, 2, 1, 1, 1, 0, 0, 0, 1, 2, 1, 0, 1, 1, 0, 1, 1, 1, 1,\n",
       "       1, 0, 1, 0, 1, 1, 0, 1, 1, 1, 1, 1, 0, 1, 1, 1, 0, 2, 1, 2, 1, 0,\n",
       "       0, 1, 0, 0, 0, 1, 1, 1, 1, 1, 1, 2, 1, 1])"
      ]
     },
     "execution_count": 24,
     "metadata": {},
     "output_type": "execute_result"
    }
   ],
   "source": [
    "y_predicts =LR.predict(x_test)\n",
    "y_predicts"
   ]
  },
  {
   "cell_type": "code",
   "execution_count": 25,
   "id": "5913aac8",
   "metadata": {
    "execution": {
     "iopub.execute_input": "2022-08-16T06:50:59.731635Z",
     "iopub.status.busy": "2022-08-16T06:50:59.730865Z",
     "iopub.status.idle": "2022-08-16T06:50:59.739954Z",
     "shell.execute_reply": "2022-08-16T06:50:59.738655Z"
    },
    "papermill": {
     "duration": 0.040855,
     "end_time": "2022-08-16T06:50:59.742515",
     "exception": false,
     "start_time": "2022-08-16T06:50:59.701660",
     "status": "completed"
    },
    "tags": []
   },
   "outputs": [
    {
     "name": "stdout",
     "output_type": "stream",
     "text": [
      "[[52 10 11]\n",
      " [10 79  3]\n",
      " [18 10 19]]\n"
     ]
    }
   ],
   "source": [
    "print(confusion_matrix(y_test, y_predicts)) "
   ]
  },
  {
   "cell_type": "code",
   "execution_count": 26,
   "id": "0afe6caa",
   "metadata": {},
   "outputs": [],
   "source": [
    "def plot_confusion_matrix(cm,\n",
    "                          target_names,\n",
    "                          title='Confusion matrix',\n",
    "                          cmap=None,\n",
    "                          normalize=True):\n",
    "    \"\"\"\n",
    "    given a sklearn confusion matrix (cm), make a nice plot\n",
    "\n",
    "    Arguments\n",
    "    ---------\n",
    "    cm:           confusion matrix from sklearn.metrics.confusion_matrix\n",
    "\n",
    "    target_names: given classification classes such as [0, 1, 2]\n",
    "                  the class names, for example: ['high', 'medium', 'low']\n",
    "\n",
    "    title:        the text to display at the top of the matrix\n",
    "\n",
    "    cmap:         the gradient of the values displayed from matplotlib.pyplot.cm\n",
    "                  see http://matplotlib.org/examples/color/colormaps_reference.html\n",
    "                  plt.get_cmap('jet') or plt.cm.Blues\n",
    "\n",
    "    normalize:    If False, plot the raw numbers\n",
    "                  If True, plot the proportions\n",
    "\n",
    "    Usage\n",
    "    -----\n",
    "    plot_confusion_matrix(cm           = cm,                  # confusion matrix created by\n",
    "                                                              # sklearn.metrics.confusion_matrix\n",
    "                          normalize    = True,                # show proportions\n",
    "                          target_names = y_labels_vals,       # list of names of the classes\n",
    "                          title        = best_estimator_name) # title of graph\n",
    "\n",
    "    Citiation\n",
    "    ---------\n",
    "    http://scikit-learn.org/stable/auto_examples/model_selection/plot_confusion_matrix.html\n",
    "\n",
    "    \"\"\"\n",
    "    import itertools\n",
    "\n",
    "    accuracy = np.trace(cm) / float(np.sum(cm))\n",
    "    misclass = 1 - accuracy\n",
    "\n",
    "    if cmap is None:\n",
    "        cmap = plt.get_cmap('Blues')\n",
    "\n",
    "    plt.figure(figsize=(8, 6))\n",
    "    plt.imshow(cm, interpolation='nearest', cmap=cmap)\n",
    "    plt.title(title)\n",
    "    plt.colorbar()\n",
    "\n",
    "    if target_names is not None:\n",
    "        tick_marks = np.arange(len(target_names))\n",
    "        plt.xticks(tick_marks, target_names, rotation=45)\n",
    "        plt.yticks(tick_marks, target_names)\n",
    "\n",
    "    if normalize:\n",
    "        cm = cm.astype('float') / cm.sum(axis=1)[:, np.newaxis]\n",
    "\n",
    "\n",
    "    thresh = cm.max() / 1.5 if normalize else cm.max() / 2\n",
    "    for i, j in itertools.product(range(cm.shape[0]), range(cm.shape[1])):\n",
    "        if normalize:\n",
    "            plt.text(j, i, \"{:0.4f}\".format(cm[i, j]),\n",
    "                     horizontalalignment=\"center\",\n",
    "                     color=\"white\" if cm[i, j] > thresh else \"black\")\n",
    "        else:\n",
    "            plt.text(j, i, \"{:,}\".format(cm[i, j]),\n",
    "                     horizontalalignment=\"center\",\n",
    "                     color=\"white\" if cm[i, j] > thresh else \"black\")\n",
    "\n",
    "\n",
    "    plt.tight_layout()\n",
    "    plt.ylabel('True label')\n",
    "    plt.xlabel('Predicted label\\naccuracy={:0.4f}; misclass={:0.4f}'.format(accuracy, misclass))\n",
    "    plt.show()"
   ]
  },
  {
   "cell_type": "code",
   "execution_count": 30,
   "id": "170cb866",
   "metadata": {},
   "outputs": [
    {
     "data": {
      "text/plain": [
       "<Figure size 432x288 with 0 Axes>"
      ]
     },
     "metadata": {},
     "output_type": "display_data"
    },
    {
     "data": {
      "image/png": "[encoded data removed]",
      "text/plain": [
       "<Figure size 576x432 with 2 Axes>"
      ]
     },
     "metadata": {
      "needs_background": "light"
     },
     "output_type": "display_data"
    }
   ],
   "source": [
    "cnf_matrix = confusion_matrix(y_test, y_predicts,labels=[0, 1, 2])\n",
    "np.set_printoptions(precision=2)\n",
    "\n",
    "plt.figure()\n",
    "plot_confusion_matrix(cnf_matrix, target_names=[0, 1, 2])"
   ]
  },
  {
   "cell_type": "markdown",
   "id": "22eb8514",
   "metadata": {},
   "source": [
    "Accuracy of training dataset"
   ]
  },
  {
   "cell_type": "code",
   "execution_count": 31,
   "id": "99b00901",
   "metadata": {
    "execution": {
     "iopub.execute_input": "2022-08-16T06:50:59.800962Z",
     "iopub.status.busy": "2022-08-16T06:50:59.800521Z",
     "iopub.status.idle": "2022-08-16T06:50:59.810855Z",
     "shell.execute_reply": "2022-08-16T06:50:59.809731Z"
    },
    "papermill": {
     "duration": 0.042171,
     "end_time": "2022-08-16T06:50:59.813098",
     "exception": false,
     "start_time": "2022-08-16T06:50:59.770927",
     "status": "completed"
    },
    "tags": []
   },
   "outputs": [
    {
     "data": {
      "text/plain": [
       "0.7154663518299882"
      ]
     },
     "execution_count": 31,
     "metadata": {},
     "output_type": "execute_result"
    }
   ],
   "source": [
    "LR.score(x_train,y_train)"
   ]
  },
  {
   "cell_type": "markdown",
   "id": "15c6d4e5",
   "metadata": {},
   "source": [
    "Accuracy of test dataset"
   ]
  },
  {
   "cell_type": "code",
   "execution_count": 32,
   "id": "ce3e3693",
   "metadata": {
    "execution": {
     "iopub.execute_input": "2022-08-16T06:50:59.874126Z",
     "iopub.status.busy": "2022-08-16T06:50:59.872399Z",
     "iopub.status.idle": "2022-08-16T06:50:59.883195Z",
     "shell.execute_reply": "2022-08-16T06:50:59.882125Z"
    },
    "papermill": {
     "duration": 0.044278,
     "end_time": "2022-08-16T06:50:59.885604",
     "exception": false,
     "start_time": "2022-08-16T06:50:59.841326",
     "status": "completed"
    },
    "tags": []
   },
   "outputs": [
    {
     "data": {
      "text/plain": [
       "0.7075471698113207"
      ]
     },
     "execution_count": 32,
     "metadata": {},
     "output_type": "execute_result"
    }
   ],
   "source": [
    "LR.score(x_test,y_test)"
   ]
  },
  {
   "cell_type": "code",
   "execution_count": 33,
   "id": "92ed2eec",
   "metadata": {
    "execution": {
     "iopub.execute_input": "2022-08-16T06:50:59.945291Z",
     "iopub.status.busy": "2022-08-16T06:50:59.944471Z",
     "iopub.status.idle": "2022-08-16T06:50:59.954122Z",
     "shell.execute_reply": "2022-08-16T06:50:59.952583Z"
    },
    "papermill": {
     "duration": 0.042105,
     "end_time": "2022-08-16T06:50:59.956988",
     "exception": false,
     "start_time": "2022-08-16T06:50:59.914883",
     "status": "completed"
    },
    "tags": []
   },
   "outputs": [
    {
     "name": "stdout",
     "output_type": "stream",
     "text": [
      "Accuracy: 0.7154663518299882\n"
     ]
    }
   ],
   "source": [
    "LR_Predict = LR.predict(x_train)\n",
    "LR_Accuracy = accuracy_score(y_train, LR_Predict)\n",
    "print(\"Accuracy: \" + str(LR_Accuracy))"
   ]
  },
  {
   "cell_type": "markdown",
   "id": "2e7aedf4",
   "metadata": {},
   "source": [
    "Classification report for LR model"
   ]
  },
  {
   "cell_type": "code",
   "execution_count": 34,
   "id": "bfee7710",
   "metadata": {
    "execution": {
     "iopub.execute_input": "2022-08-16T06:51:00.015996Z",
     "iopub.status.busy": "2022-08-16T06:51:00.015174Z",
     "iopub.status.idle": "2022-08-16T06:51:00.027755Z",
     "shell.execute_reply": "2022-08-16T06:51:00.026252Z"
    },
    "papermill": {
     "duration": 0.045228,
     "end_time": "2022-08-16T06:51:00.030877",
     "exception": false,
     "start_time": "2022-08-16T06:50:59.985649",
     "status": "completed"
    },
    "tags": []
   },
   "outputs": [
    {
     "name": "stdout",
     "output_type": "stream",
     "text": [
      "              precision    recall  f1-score   support\n",
      "\n",
      "           0       0.65      0.71      0.68        73\n",
      "           1       0.80      0.86      0.83        92\n",
      "           2       0.58      0.40      0.48        47\n",
      "\n",
      "    accuracy                           0.71       212\n",
      "   macro avg       0.67      0.66      0.66       212\n",
      "weighted avg       0.70      0.71      0.70       212\n",
      "\n"
     ]
    }
   ],
   "source": [
    "resultLR = classification_report(y_test, y_predicts)\n",
    "print(resultLR)"
   ]
  },
  {
   "cell_type": "markdown",
   "id": "5d8cb21e",
   "metadata": {
    "papermill": {
     "duration": 0.029142,
     "end_time": "2022-08-16T06:51:00.089618",
     "exception": false,
     "start_time": "2022-08-16T06:51:00.060476",
     "status": "completed"
    },
    "tags": []
   },
   "source": [
    "## Random Forest Classifier"
   ]
  },
  {
   "cell_type": "code",
   "execution_count": 35,
   "id": "fd016f88",
   "metadata": {
    "execution": {
     "iopub.execute_input": "2022-08-16T06:51:00.149689Z",
     "iopub.status.busy": "2022-08-16T06:51:00.148133Z",
     "iopub.status.idle": "2022-08-16T06:51:00.162445Z",
     "shell.execute_reply": "2022-08-16T06:51:00.161567Z"
    },
    "papermill": {
     "duration": 0.046388,
     "end_time": "2022-08-16T06:51:00.164717",
     "exception": false,
     "start_time": "2022-08-16T06:51:00.118329",
     "status": "completed"
    },
    "tags": []
   },
   "outputs": [
    {
     "data": {
      "text/html": [
       "<div>\n",
       "<style scoped>\n",
       "    .dataframe tbody tr th:only-of-type {\n",
       "        vertical-align: middle;\n",
       "    }\n",
       "\n",
       "    .dataframe tbody tr th {\n",
       "        vertical-align: top;\n",
       "    }\n",
       "\n",
       "    .dataframe thead th {\n",
       "        text-align: right;\n",
       "    }\n",
       "</style>\n",
       "<table border=\"1\" class=\"dataframe\">\n",
       "  <thead>\n",
       "    <tr style=\"text-align: right;\">\n",
       "      <th></th>\n",
       "      <th>pH</th>\n",
       "      <th>Temprature</th>\n",
       "      <th>Taste</th>\n",
       "      <th>Odor</th>\n",
       "      <th>Fat</th>\n",
       "      <th>Turbidity</th>\n",
       "      <th>Colour</th>\n",
       "    </tr>\n",
       "  </thead>\n",
       "  <tbody>\n",
       "    <tr>\n",
       "      <th>325</th>\n",
       "      <td>6.8</td>\n",
       "      <td>45</td>\n",
       "      <td>0</td>\n",
       "      <td>0</td>\n",
       "      <td>0</td>\n",
       "      <td>1</td>\n",
       "      <td>255</td>\n",
       "    </tr>\n",
       "    <tr>\n",
       "      <th>595</th>\n",
       "      <td>6.5</td>\n",
       "      <td>37</td>\n",
       "      <td>0</td>\n",
       "      <td>0</td>\n",
       "      <td>0</td>\n",
       "      <td>0</td>\n",
       "      <td>255</td>\n",
       "    </tr>\n",
       "    <tr>\n",
       "      <th>126</th>\n",
       "      <td>8.5</td>\n",
       "      <td>70</td>\n",
       "      <td>0</td>\n",
       "      <td>0</td>\n",
       "      <td>0</td>\n",
       "      <td>0</td>\n",
       "      <td>246</td>\n",
       "    </tr>\n",
       "    <tr>\n",
       "      <th>512</th>\n",
       "      <td>6.8</td>\n",
       "      <td>45</td>\n",
       "      <td>1</td>\n",
       "      <td>1</td>\n",
       "      <td>1</td>\n",
       "      <td>0</td>\n",
       "      <td>245</td>\n",
       "    </tr>\n",
       "    <tr>\n",
       "      <th>578</th>\n",
       "      <td>6.5</td>\n",
       "      <td>38</td>\n",
       "      <td>1</td>\n",
       "      <td>0</td>\n",
       "      <td>1</td>\n",
       "      <td>0</td>\n",
       "      <td>255</td>\n",
       "    </tr>\n",
       "  </tbody>\n",
       "</table>\n",
       "</div>"
      ],
      "text/plain": [
       "      pH  Temprature  Taste  Odor  Fat   Turbidity  Colour\n",
       "325  6.8          45      0     0     0          1     255\n",
       "595  6.5          37      0     0     0          0     255\n",
       "126  8.5          70      0     0     0          0     246\n",
       "512  6.8          45      1     1     1          0     245\n",
       "578  6.5          38      1     0     1          0     255"
      ]
     },
     "execution_count": 35,
     "metadata": {},
     "output_type": "execute_result"
    }
   ],
   "source": [
    "x_train,x_test,y_train, y_test=train_test_split(x,y,test_size=0.2)\n",
    "x_train.head()"
   ]
  },
  {
   "cell_type": "code",
   "execution_count": 36,
   "id": "3bfae615",
   "metadata": {
    "execution": {
     "iopub.execute_input": "2022-08-16T06:51:00.225142Z",
     "iopub.status.busy": "2022-08-16T06:51:00.224737Z",
     "iopub.status.idle": "2022-08-16T06:51:00.396709Z",
     "shell.execute_reply": "2022-08-16T06:51:00.395560Z"
    },
    "papermill": {
     "duration": 0.204549,
     "end_time": "2022-08-16T06:51:00.399188",
     "exception": false,
     "start_time": "2022-08-16T06:51:00.194639",
     "status": "completed"
    },
    "tags": []
   },
   "outputs": [
    {
     "data": {
      "text/plain": [
       "RandomForestClassifier()"
      ]
     },
     "execution_count": 36,
     "metadata": {},
     "output_type": "execute_result"
    }
   ],
   "source": [
    "RFC = RandomForestClassifier()\n",
    "RFC.fit(x_train, y_train)"
   ]
  },
  {
   "cell_type": "code",
   "execution_count": 37,
   "id": "b13d0ab5",
   "metadata": {
    "execution": {
     "iopub.execute_input": "2022-08-16T06:51:00.458061Z",
     "iopub.status.busy": "2022-08-16T06:51:00.457679Z",
     "iopub.status.idle": "2022-08-16T06:51:00.482133Z",
     "shell.execute_reply": "2022-08-16T06:51:00.481203Z"
    },
    "papermill": {
     "duration": 0.056533,
     "end_time": "2022-08-16T06:51:00.484297",
     "exception": false,
     "start_time": "2022-08-16T06:51:00.427764",
     "status": "completed"
    },
    "scrolled": true,
    "tags": []
   },
   "outputs": [
    {
     "data": {
      "text/plain": [
       "array([1, 2, 1, 0, 2, 2, 0, 0, 1, 2, 2, 1, 0, 2, 1, 1, 0, 1, 1, 1, 0, 1,\n",
       "       0, 1, 2, 0, 1, 1, 2, 1, 1, 1, 1, 1, 0, 0, 1, 1, 0, 1, 0, 2, 1, 0,\n",
       "       2, 1, 0, 2, 2, 2, 2, 2, 0, 2, 1, 0, 2, 1, 1, 0, 2, 0, 0, 1, 1, 1,\n",
       "       1, 2, 2, 0, 0, 0, 0, 0, 1, 0, 1, 1, 0, 2, 0, 2, 0, 2, 1, 1, 2, 0,\n",
       "       0, 0, 0, 1, 1, 1, 0, 1, 1, 0, 1, 1, 1, 1, 0, 0, 0, 1, 2, 1, 0, 0,\n",
       "       0, 0, 2, 0, 0, 0, 2, 0, 2, 2, 2, 1, 1, 1, 2, 2, 0, 2, 1, 0, 0, 1,\n",
       "       0, 2, 2, 2, 0, 0, 0, 1, 0, 1, 1, 1, 0, 2, 0, 1, 2, 0, 0, 0, 0, 0,\n",
       "       0, 1, 1, 2, 0, 1, 2, 0, 2, 1, 1, 1, 1, 0, 2, 0, 0, 0, 0, 0, 1, 0,\n",
       "       0, 0, 2, 1, 1, 0, 1, 0, 2, 1, 1, 0, 1, 1, 1, 0, 2, 2, 1, 2, 1, 1,\n",
       "       2, 1, 2, 2, 0, 1, 1, 1, 1, 2, 2, 2, 2, 2])"
      ]
     },
     "execution_count": 37,
     "metadata": {},
     "output_type": "execute_result"
    }
   ],
   "source": [
    "y_predicts =RFC.predict(x_test)\n",
    "y_predicts"
   ]
  },
  {
   "cell_type": "code",
   "execution_count": 38,
   "id": "99346211",
   "metadata": {
    "execution": {
     "iopub.execute_input": "2022-08-16T06:51:00.543874Z",
     "iopub.status.busy": "2022-08-16T06:51:00.543169Z",
     "iopub.status.idle": "2022-08-16T06:51:00.550914Z",
     "shell.execute_reply": "2022-08-16T06:51:00.549448Z"
    },
    "papermill": {
     "duration": 0.040316,
     "end_time": "2022-08-16T06:51:00.553567",
     "exception": false,
     "start_time": "2022-08-16T06:51:00.513251",
     "status": "completed"
    },
    "tags": []
   },
   "outputs": [
    {
     "name": "stdout",
     "output_type": "stream",
     "text": [
      "[[77  0  0]\n",
      " [ 0 80  0]\n",
      " [ 0  0 55]]\n"
     ]
    }
   ],
   "source": [
    "print(confusion_matrix(y_test, y_predicts))"
   ]
  },
  {
   "cell_type": "code",
   "execution_count": 39,
   "id": "6c39e19a",
   "metadata": {},
   "outputs": [
    {
     "data": {
      "text/plain": [
       "<Figure size 432x288 with 0 Axes>"
      ]
     },
     "metadata": {},
     "output_type": "display_data"
    },
    {
     "data": {
      "image/png": "[encoded data removed]",
      "text/plain": [
       "<Figure size 576x432 with 2 Axes>"
      ]
     },
     "metadata": {
      "needs_background": "light"
     },
     "output_type": "display_data"
    }
   ],
   "source": [
    "cnf_matrix = confusion_matrix(y_test, y_predicts,labels=[0, 1, 2])\n",
    "np.set_printoptions(precision=2)\n",
    "\n",
    "plt.figure()\n",
    "plot_confusion_matrix(cnf_matrix, target_names=[0, 1, 2])"
   ]
  },
  {
   "cell_type": "markdown",
   "id": "f8b15aed",
   "metadata": {},
   "source": [
    "Accuracy of train dataset"
   ]
  },
  {
   "cell_type": "code",
   "execution_count": 40,
   "id": "38c1a3c1",
   "metadata": {
    "execution": {
     "iopub.execute_input": "2022-08-16T06:51:00.614453Z",
     "iopub.status.busy": "2022-08-16T06:51:00.613714Z",
     "iopub.status.idle": "2022-08-16T06:51:00.645309Z",
     "shell.execute_reply": "2022-08-16T06:51:00.644368Z"
    },
    "papermill": {
     "duration": 0.065334,
     "end_time": "2022-08-16T06:51:00.647744",
     "exception": false,
     "start_time": "2022-08-16T06:51:00.582410",
     "status": "completed"
    },
    "tags": []
   },
   "outputs": [
    {
     "data": {
      "text/plain": [
       "1.0"
      ]
     },
     "execution_count": 40,
     "metadata": {},
     "output_type": "execute_result"
    }
   ],
   "source": [
    "RFC.score(x_train,y_train)"
   ]
  },
  {
   "cell_type": "markdown",
   "id": "f8cdfc8e",
   "metadata": {},
   "source": [
    "Accuracy of test dataset"
   ]
  },
  {
   "cell_type": "code",
   "execution_count": 41,
   "id": "4c0f99d9",
   "metadata": {
    "execution": {
     "iopub.execute_input": "2022-08-16T06:51:00.707842Z",
     "iopub.status.busy": "2022-08-16T06:51:00.707030Z",
     "iopub.status.idle": "2022-08-16T06:51:00.730368Z",
     "shell.execute_reply": "2022-08-16T06:51:00.729265Z"
    },
    "papermill": {
     "duration": 0.056122,
     "end_time": "2022-08-16T06:51:00.732741",
     "exception": false,
     "start_time": "2022-08-16T06:51:00.676619",
     "status": "completed"
    },
    "tags": []
   },
   "outputs": [
    {
     "data": {
      "text/plain": [
       "1.0"
      ]
     },
     "execution_count": 41,
     "metadata": {},
     "output_type": "execute_result"
    }
   ],
   "source": [
    "RFC.score(x_test,y_test)"
   ]
  },
  {
   "cell_type": "markdown",
   "id": "035a5cde",
   "metadata": {},
   "source": [
    "Classification report for RF model"
   ]
  },
  {
   "cell_type": "code",
   "execution_count": 42,
   "id": "15e41144",
   "metadata": {
    "execution": {
     "iopub.execute_input": "2022-08-16T06:51:00.793569Z",
     "iopub.status.busy": "2022-08-16T06:51:00.792777Z",
     "iopub.status.idle": "2022-08-16T06:51:00.802571Z",
     "shell.execute_reply": "2022-08-16T06:51:00.801374Z"
    },
    "papermill": {
     "duration": 0.043342,
     "end_time": "2022-08-16T06:51:00.805407",
     "exception": false,
     "start_time": "2022-08-16T06:51:00.762065",
     "status": "completed"
    },
    "tags": []
   },
   "outputs": [
    {
     "name": "stdout",
     "output_type": "stream",
     "text": [
      "              precision    recall  f1-score   support\n",
      "\n",
      "           0       1.00      1.00      1.00        77\n",
      "           1       1.00      1.00      1.00        80\n",
      "           2       1.00      1.00      1.00        55\n",
      "\n",
      "    accuracy                           1.00       212\n",
      "   macro avg       1.00      1.00      1.00       212\n",
      "weighted avg       1.00      1.00      1.00       212\n",
      "\n"
     ]
    }
   ],
   "source": [
    "resultRFC = classification_report(y_test, y_predicts)\n",
    "print(resultRFC)"
   ]
  },
  {
   "cell_type": "code",
   "execution_count": 43,
   "id": "312d84ff",
   "metadata": {
    "execution": {
     "iopub.execute_input": "2022-08-16T06:51:00.866440Z",
     "iopub.status.busy": "2022-08-16T06:51:00.865642Z",
     "iopub.status.idle": "2022-08-16T06:51:00.895671Z",
     "shell.execute_reply": "2022-08-16T06:51:00.894247Z"
    },
    "papermill": {
     "duration": 0.063986,
     "end_time": "2022-08-16T06:51:00.898760",
     "exception": false,
     "start_time": "2022-08-16T06:51:00.834774",
     "status": "completed"
    },
    "tags": []
   },
   "outputs": [
    {
     "name": "stdout",
     "output_type": "stream",
     "text": [
      "Accuracy: 1.0\n"
     ]
    }
   ],
   "source": [
    "RFC_Predict = RFC.predict(x_train)\n",
    "RFC_Accuracy = accuracy_score(y_train, RFC_Predict)\n",
    "print(\"Accuracy: \" + str(RFC_Accuracy))"
   ]
  },
  {
   "cell_type": "markdown",
   "id": "3cc80eaa",
   "metadata": {
    "papermill": {
     "duration": 0.02886,
     "end_time": "2022-08-16T06:51:00.957646",
     "exception": false,
     "start_time": "2022-08-16T06:51:00.928786",
     "status": "completed"
    },
    "tags": []
   },
   "source": [
    "## K-Nearest Neighbors Classifier"
   ]
  },
  {
   "cell_type": "code",
   "execution_count": 44,
   "id": "e7682c51",
   "metadata": {
    "execution": {
     "iopub.execute_input": "2022-08-16T06:51:01.018858Z",
     "iopub.status.busy": "2022-08-16T06:51:01.018033Z",
     "iopub.status.idle": "2022-08-16T06:51:01.033239Z",
     "shell.execute_reply": "2022-08-16T06:51:01.031989Z"
    },
    "papermill": {
     "duration": 0.048873,
     "end_time": "2022-08-16T06:51:01.035835",
     "exception": false,
     "start_time": "2022-08-16T06:51:00.986962",
     "status": "completed"
    },
    "tags": []
   },
   "outputs": [
    {
     "data": {
      "text/html": [
       "<div>\n",
       "<style scoped>\n",
       "    .dataframe tbody tr th:only-of-type {\n",
       "        vertical-align: middle;\n",
       "    }\n",
       "\n",
       "    .dataframe tbody tr th {\n",
       "        vertical-align: top;\n",
       "    }\n",
       "\n",
       "    .dataframe thead th {\n",
       "        text-align: right;\n",
       "    }\n",
       "</style>\n",
       "<table border=\"1\" class=\"dataframe\">\n",
       "  <thead>\n",
       "    <tr style=\"text-align: right;\">\n",
       "      <th></th>\n",
       "      <th>pH</th>\n",
       "      <th>Temprature</th>\n",
       "      <th>Taste</th>\n",
       "      <th>Odor</th>\n",
       "      <th>Fat</th>\n",
       "      <th>Turbidity</th>\n",
       "      <th>Colour</th>\n",
       "    </tr>\n",
       "  </thead>\n",
       "  <tbody>\n",
       "    <tr>\n",
       "      <th>629</th>\n",
       "      <td>6.7</td>\n",
       "      <td>38</td>\n",
       "      <td>1</td>\n",
       "      <td>0</td>\n",
       "      <td>1</td>\n",
       "      <td>0</td>\n",
       "      <td>255</td>\n",
       "    </tr>\n",
       "    <tr>\n",
       "      <th>172</th>\n",
       "      <td>6.8</td>\n",
       "      <td>38</td>\n",
       "      <td>0</td>\n",
       "      <td>0</td>\n",
       "      <td>0</td>\n",
       "      <td>0</td>\n",
       "      <td>255</td>\n",
       "    </tr>\n",
       "    <tr>\n",
       "      <th>839</th>\n",
       "      <td>6.6</td>\n",
       "      <td>45</td>\n",
       "      <td>0</td>\n",
       "      <td>1</td>\n",
       "      <td>1</td>\n",
       "      <td>1</td>\n",
       "      <td>250</td>\n",
       "    </tr>\n",
       "    <tr>\n",
       "      <th>418</th>\n",
       "      <td>6.6</td>\n",
       "      <td>37</td>\n",
       "      <td>1</td>\n",
       "      <td>1</td>\n",
       "      <td>1</td>\n",
       "      <td>1</td>\n",
       "      <td>255</td>\n",
       "    </tr>\n",
       "    <tr>\n",
       "      <th>669</th>\n",
       "      <td>4.5</td>\n",
       "      <td>60</td>\n",
       "      <td>0</td>\n",
       "      <td>1</td>\n",
       "      <td>1</td>\n",
       "      <td>1</td>\n",
       "      <td>250</td>\n",
       "    </tr>\n",
       "  </tbody>\n",
       "</table>\n",
       "</div>"
      ],
      "text/plain": [
       "      pH  Temprature  Taste  Odor  Fat   Turbidity  Colour\n",
       "629  6.7          38      1     0     1          0     255\n",
       "172  6.8          38      0     0     0          0     255\n",
       "839  6.6          45      0     1     1          1     250\n",
       "418  6.6          37      1     1     1          1     255\n",
       "669  4.5          60      0     1     1          1     250"
      ]
     },
     "execution_count": 44,
     "metadata": {},
     "output_type": "execute_result"
    }
   ],
   "source": [
    "x_train,x_test,y_train, y_test=train_test_split(x,y,test_size=0.2)\n",
    "x_train.head()"
   ]
  },
  {
   "cell_type": "code",
   "execution_count": 45,
   "id": "439d19f1",
   "metadata": {
    "execution": {
     "iopub.execute_input": "2022-08-16T06:51:01.097806Z",
     "iopub.status.busy": "2022-08-16T06:51:01.097034Z",
     "iopub.status.idle": "2022-08-16T06:51:01.107220Z",
     "shell.execute_reply": "2022-08-16T06:51:01.106041Z"
    },
    "papermill": {
     "duration": 0.0442,
     "end_time": "2022-08-16T06:51:01.109690",
     "exception": false,
     "start_time": "2022-08-16T06:51:01.065490",
     "status": "completed"
    },
    "tags": []
   },
   "outputs": [
    {
     "data": {
      "text/plain": [
       "KNeighborsClassifier()"
      ]
     },
     "execution_count": 45,
     "metadata": {},
     "output_type": "execute_result"
    }
   ],
   "source": [
    "KNN = KNeighborsClassifier()\n",
    "KNN.fit(x_train, y_train)"
   ]
  },
  {
   "cell_type": "code",
   "execution_count": 46,
   "id": "3a41c57f",
   "metadata": {
    "execution": {
     "iopub.execute_input": "2022-08-16T06:51:01.172555Z",
     "iopub.status.busy": "2022-08-16T06:51:01.172095Z",
     "iopub.status.idle": "2022-08-16T06:51:01.189441Z",
     "shell.execute_reply": "2022-08-16T06:51:01.188349Z"
    },
    "papermill": {
     "duration": 0.051189,
     "end_time": "2022-08-16T06:51:01.191946",
     "exception": false,
     "start_time": "2022-08-16T06:51:01.140757",
     "status": "completed"
    },
    "tags": []
   },
   "outputs": [
    {
     "data": {
      "text/plain": [
       "array([1, 1, 0, 0, 2, 2, 0, 0, 2, 0, 0, 2, 1, 2, 1, 0, 0, 0, 1, 1, 0, 0,\n",
       "       1, 2, 1, 1, 0, 1, 0, 0, 0, 1, 0, 0, 1, 0, 1, 0, 0, 1, 2, 1, 2, 0,\n",
       "       2, 0, 1, 0, 1, 0, 1, 2, 0, 1, 0, 1, 1, 2, 0, 2, 0, 0, 2, 2, 2, 1,\n",
       "       2, 1, 1, 1, 0, 2, 0, 1, 2, 1, 0, 2, 1, 0, 1, 0, 1, 1, 1, 2, 0, 1,\n",
       "       0, 2, 2, 0, 1, 1, 0, 1, 0, 1, 1, 2, 2, 0, 0, 0, 2, 1, 2, 1, 1, 0,\n",
       "       1, 1, 1, 1, 2, 0, 0, 0, 0, 0, 1, 2, 0, 0, 1, 1, 0, 0, 1, 0, 0, 1,\n",
       "       0, 0, 0, 0, 0, 1, 1, 1, 0, 1, 2, 0, 1, 2, 0, 2, 2, 0, 1, 0, 1, 1,\n",
       "       0, 1, 2, 0, 0, 0, 1, 0, 0, 0, 1, 1, 0, 2, 2, 2, 0, 1, 2, 0, 0, 0,\n",
       "       1, 2, 2, 0, 2, 1, 1, 2, 0, 0, 0, 0, 0, 0, 1, 2, 1, 2, 1, 2, 1, 2,\n",
       "       1, 0, 0, 1, 2, 0, 0, 0, 1, 1, 0, 1, 2, 0])"
      ]
     },
     "execution_count": 46,
     "metadata": {},
     "output_type": "execute_result"
    }
   ],
   "source": [
    "y_predicts =KNN.predict(x_test)\n",
    "y_predicts"
   ]
  },
  {
   "cell_type": "code",
   "execution_count": 47,
   "id": "d7ab56ac",
   "metadata": {
    "execution": {
     "iopub.execute_input": "2022-08-16T06:51:01.254312Z",
     "iopub.status.busy": "2022-08-16T06:51:01.253870Z",
     "iopub.status.idle": "2022-08-16T06:51:01.261528Z",
     "shell.execute_reply": "2022-08-16T06:51:01.259959Z"
    },
    "papermill": {
     "duration": 0.042103,
     "end_time": "2022-08-16T06:51:01.264278",
     "exception": false,
     "start_time": "2022-08-16T06:51:01.222175",
     "status": "completed"
    },
    "tags": []
   },
   "outputs": [
    {
     "name": "stdout",
     "output_type": "stream",
     "text": [
      "[[90  0  0]\n",
      " [ 0 73  1]\n",
      " [ 0  2 46]]\n"
     ]
    }
   ],
   "source": [
    "cm = metrics.confusion_matrix(y_test, y_predicts)\n",
    "print(cm)"
   ]
  },
  {
   "cell_type": "code",
   "execution_count": 48,
   "id": "f43e5c83",
   "metadata": {},
   "outputs": [
    {
     "data": {
      "text/plain": [
       "<Figure size 432x288 with 0 Axes>"
      ]
     },
     "metadata": {},
     "output_type": "display_data"
    },
    {
     "data": {
      "image/png": "[encoded data removed]",
      "text/plain": [
       "<Figure size 576x432 with 2 Axes>"
      ]
     },
     "metadata": {
      "needs_background": "light"
     },
     "output_type": "display_data"
    }
   ],
   "source": [
    "cnf_matrix = confusion_matrix(y_test, y_predicts,labels=[0, 1, 2])\n",
    "np.set_printoptions(precision=2)\n",
    "\n",
    "plt.figure()\n",
    "plot_confusion_matrix(cnf_matrix, target_names=[0, 1, 2])"
   ]
  },
  {
   "cell_type": "markdown",
   "id": "37446a0b",
   "metadata": {},
   "source": [
    "Accuracy of training dataset"
   ]
  },
  {
   "cell_type": "code",
   "execution_count": 49,
   "id": "c18580b2",
   "metadata": {
    "execution": {
     "iopub.execute_input": "2022-08-16T06:51:01.326351Z",
     "iopub.status.busy": "2022-08-16T06:51:01.325900Z",
     "iopub.status.idle": "2022-08-16T06:51:01.361746Z",
     "shell.execute_reply": "2022-08-16T06:51:01.360450Z"
    },
    "papermill": {
     "duration": 0.069997,
     "end_time": "2022-08-16T06:51:01.364399",
     "exception": false,
     "start_time": "2022-08-16T06:51:01.294402",
     "status": "completed"
    },
    "tags": []
   },
   "outputs": [
    {
     "data": {
      "text/plain": [
       "0.9940968122786304"
      ]
     },
     "execution_count": 49,
     "metadata": {},
     "output_type": "execute_result"
    }
   ],
   "source": [
    "KNN.score(x_train,y_train)"
   ]
  },
  {
   "cell_type": "markdown",
   "id": "d87f5e76",
   "metadata": {},
   "source": [
    "Accuracy of test dataset"
   ]
  },
  {
   "cell_type": "code",
   "execution_count": 50,
   "id": "8194f6e9",
   "metadata": {
    "execution": {
     "iopub.execute_input": "2022-08-16T06:51:01.428474Z",
     "iopub.status.busy": "2022-08-16T06:51:01.428037Z",
     "iopub.status.idle": "2022-08-16T06:51:01.445030Z",
     "shell.execute_reply": "2022-08-16T06:51:01.443618Z"
    },
    "papermill": {
     "duration": 0.051735,
     "end_time": "2022-08-16T06:51:01.447575",
     "exception": false,
     "start_time": "2022-08-16T06:51:01.395840",
     "status": "completed"
    },
    "tags": []
   },
   "outputs": [
    {
     "data": {
      "text/plain": [
       "0.9858490566037735"
      ]
     },
     "execution_count": 50,
     "metadata": {},
     "output_type": "execute_result"
    }
   ],
   "source": [
    "KNN.score(x_test,y_test)"
   ]
  },
  {
   "cell_type": "markdown",
   "id": "310b9a12",
   "metadata": {},
   "source": [
    "Classification report for KNN model"
   ]
  },
  {
   "cell_type": "code",
   "execution_count": 51,
   "id": "34f9c28d",
   "metadata": {
    "execution": {
     "iopub.execute_input": "2022-08-16T06:51:01.510164Z",
     "iopub.status.busy": "2022-08-16T06:51:01.509710Z",
     "iopub.status.idle": "2022-08-16T06:51:01.521633Z",
     "shell.execute_reply": "2022-08-16T06:51:01.519873Z"
    },
    "papermill": {
     "duration": 0.046045,
     "end_time": "2022-08-16T06:51:01.524047",
     "exception": false,
     "start_time": "2022-08-16T06:51:01.478002",
     "status": "completed"
    },
    "tags": []
   },
   "outputs": [
    {
     "name": "stdout",
     "output_type": "stream",
     "text": [
      "              precision    recall  f1-score   support\n",
      "\n",
      "           0       1.00      1.00      1.00        90\n",
      "           1       0.97      0.99      0.98        74\n",
      "           2       0.98      0.96      0.97        48\n",
      "\n",
      "    accuracy                           0.99       212\n",
      "   macro avg       0.98      0.98      0.98       212\n",
      "weighted avg       0.99      0.99      0.99       212\n",
      "\n"
     ]
    }
   ],
   "source": [
    "resultKNN = classification_report(y_test, y_predicts)\n",
    "print(resultKNN)"
   ]
  },
  {
   "cell_type": "code",
   "execution_count": 52,
   "id": "e26b2126",
   "metadata": {
    "execution": {
     "iopub.execute_input": "2022-08-16T06:51:01.586531Z",
     "iopub.status.busy": "2022-08-16T06:51:01.586090Z",
     "iopub.status.idle": "2022-08-16T06:51:01.620105Z",
     "shell.execute_reply": "2022-08-16T06:51:01.618767Z"
    },
    "papermill": {
     "duration": 0.06843,
     "end_time": "2022-08-16T06:51:01.622686",
     "exception": false,
     "start_time": "2022-08-16T06:51:01.554256",
     "status": "completed"
    },
    "tags": []
   },
   "outputs": [
    {
     "name": "stdout",
     "output_type": "stream",
     "text": [
      "Accuracy: 0.9940968122786304\n"
     ]
    }
   ],
   "source": [
    "KNN_Predict = KNN.predict(x_train)\n",
    "KNN_Accuracy = accuracy_score(y_train, KNN_Predict)\n",
    "print(\"Accuracy: \" + str(KNN_Accuracy))"
   ]
  },
  {
   "cell_type": "markdown",
   "id": "79158aa0",
   "metadata": {
    "papermill": {
     "duration": 0.029852,
     "end_time": "2022-08-16T06:51:01.682652",
     "exception": false,
     "start_time": "2022-08-16T06:51:01.652800",
     "status": "completed"
    },
    "tags": []
   },
   "source": [
    "## Decision Tree Classifier"
   ]
  },
  {
   "cell_type": "code",
   "execution_count": 53,
   "id": "c2745dea",
   "metadata": {
    "execution": {
     "iopub.execute_input": "2022-08-16T06:51:01.746071Z",
     "iopub.status.busy": "2022-08-16T06:51:01.745363Z",
     "iopub.status.idle": "2022-08-16T06:51:01.762026Z",
     "shell.execute_reply": "2022-08-16T06:51:01.761061Z"
    },
    "papermill": {
     "duration": 0.051544,
     "end_time": "2022-08-16T06:51:01.764316",
     "exception": false,
     "start_time": "2022-08-16T06:51:01.712772",
     "status": "completed"
    },
    "tags": []
   },
   "outputs": [
    {
     "data": {
      "text/html": [
       "<div>\n",
       "<style scoped>\n",
       "    .dataframe tbody tr th:only-of-type {\n",
       "        vertical-align: middle;\n",
       "    }\n",
       "\n",
       "    .dataframe tbody tr th {\n",
       "        vertical-align: top;\n",
       "    }\n",
       "\n",
       "    .dataframe thead th {\n",
       "        text-align: right;\n",
       "    }\n",
       "</style>\n",
       "<table border=\"1\" class=\"dataframe\">\n",
       "  <thead>\n",
       "    <tr style=\"text-align: right;\">\n",
       "      <th></th>\n",
       "      <th>pH</th>\n",
       "      <th>Temprature</th>\n",
       "      <th>Taste</th>\n",
       "      <th>Odor</th>\n",
       "      <th>Fat</th>\n",
       "      <th>Turbidity</th>\n",
       "      <th>Colour</th>\n",
       "    </tr>\n",
       "  </thead>\n",
       "  <tbody>\n",
       "    <tr>\n",
       "      <th>201</th>\n",
       "      <td>3.0</td>\n",
       "      <td>40</td>\n",
       "      <td>1</td>\n",
       "      <td>1</td>\n",
       "      <td>1</td>\n",
       "      <td>1</td>\n",
       "      <td>255</td>\n",
       "    </tr>\n",
       "    <tr>\n",
       "      <th>213</th>\n",
       "      <td>7.4</td>\n",
       "      <td>90</td>\n",
       "      <td>1</td>\n",
       "      <td>0</td>\n",
       "      <td>1</td>\n",
       "      <td>1</td>\n",
       "      <td>255</td>\n",
       "    </tr>\n",
       "    <tr>\n",
       "      <th>850</th>\n",
       "      <td>7.4</td>\n",
       "      <td>65</td>\n",
       "      <td>0</td>\n",
       "      <td>0</td>\n",
       "      <td>0</td>\n",
       "      <td>0</td>\n",
       "      <td>255</td>\n",
       "    </tr>\n",
       "    <tr>\n",
       "      <th>441</th>\n",
       "      <td>6.5</td>\n",
       "      <td>36</td>\n",
       "      <td>0</td>\n",
       "      <td>0</td>\n",
       "      <td>1</td>\n",
       "      <td>0</td>\n",
       "      <td>255</td>\n",
       "    </tr>\n",
       "    <tr>\n",
       "      <th>171</th>\n",
       "      <td>6.5</td>\n",
       "      <td>38</td>\n",
       "      <td>1</td>\n",
       "      <td>1</td>\n",
       "      <td>1</td>\n",
       "      <td>1</td>\n",
       "      <td>255</td>\n",
       "    </tr>\n",
       "  </tbody>\n",
       "</table>\n",
       "</div>"
      ],
      "text/plain": [
       "      pH  Temprature  Taste  Odor  Fat   Turbidity  Colour\n",
       "201  3.0          40      1     1     1          1     255\n",
       "213  7.4          90      1     0     1          1     255\n",
       "850  7.4          65      0     0     0          0     255\n",
       "441  6.5          36      0     0     1          0     255\n",
       "171  6.5          38      1     1     1          1     255"
      ]
     },
     "execution_count": 53,
     "metadata": {},
     "output_type": "execute_result"
    }
   ],
   "source": [
    "x_train,x_test,y_train, y_test=train_test_split(x,y,test_size=0.2)\n",
    "x_train.head()"
   ]
  },
  {
   "cell_type": "code",
   "execution_count": 54,
   "id": "987677e6",
   "metadata": {
    "execution": {
     "iopub.execute_input": "2022-08-16T06:51:01.829186Z",
     "iopub.status.busy": "2022-08-16T06:51:01.827959Z",
     "iopub.status.idle": "2022-08-16T06:51:01.837978Z",
     "shell.execute_reply": "2022-08-16T06:51:01.837126Z"
    },
    "papermill": {
     "duration": 0.044434,
     "end_time": "2022-08-16T06:51:01.840305",
     "exception": false,
     "start_time": "2022-08-16T06:51:01.795871",
     "status": "completed"
    },
    "tags": []
   },
   "outputs": [
    {
     "data": {
      "text/plain": [
       "DecisionTreeClassifier()"
      ]
     },
     "execution_count": 54,
     "metadata": {},
     "output_type": "execute_result"
    }
   ],
   "source": [
    "DT = DecisionTreeClassifier()\n",
    "DT.fit(x_train, y_train)"
   ]
  },
  {
   "cell_type": "code",
   "execution_count": 55,
   "id": "41787f7e",
   "metadata": {
    "execution": {
     "iopub.execute_input": "2022-08-16T06:51:01.911085Z",
     "iopub.status.busy": "2022-08-16T06:51:01.910482Z",
     "iopub.status.idle": "2022-08-16T06:51:01.920016Z",
     "shell.execute_reply": "2022-08-16T06:51:01.918932Z"
    },
    "papermill": {
     "duration": 0.050383,
     "end_time": "2022-08-16T06:51:01.922301",
     "exception": false,
     "start_time": "2022-08-16T06:51:01.871918",
     "status": "completed"
    },
    "tags": []
   },
   "outputs": [
    {
     "data": {
      "text/plain": [
       "array([0, 0, 0, 0, 2, 2, 1, 2, 1, 1, 2, 0, 0, 2, 0, 2, 2, 1, 0, 2, 0, 1,\n",
       "       0, 0, 0, 2, 2, 2, 1, 2, 2, 2, 0, 1, 0, 2, 1, 2, 0, 1, 0, 2, 1, 0,\n",
       "       2, 2, 0, 0, 1, 0, 1, 1, 2, 0, 1, 1, 0, 0, 0, 1, 2, 1, 0, 2, 1, 1,\n",
       "       1, 1, 1, 0, 0, 0, 0, 2, 2, 2, 0, 1, 1, 2, 0, 0, 1, 0, 1, 0, 0, 1,\n",
       "       0, 2, 1, 0, 1, 0, 1, 0, 1, 0, 0, 0, 1, 0, 1, 2, 2, 0, 2, 1, 0, 1,\n",
       "       2, 2, 1, 0, 0, 0, 0, 1, 0, 0, 2, 1, 1, 1, 1, 0, 1, 2, 0, 0, 0, 2,\n",
       "       1, 0, 0, 0, 1, 0, 0, 1, 0, 0, 0, 2, 0, 0, 2, 1, 1, 2, 1, 2, 1, 2,\n",
       "       2, 2, 2, 1, 2, 2, 2, 0, 0, 0, 1, 2, 1, 0, 1, 1, 2, 1, 0, 0, 2, 1,\n",
       "       0, 1, 1, 1, 1, 2, 0, 1, 2, 0, 2, 0, 1, 0, 2, 2, 0, 2, 0, 1, 0, 1,\n",
       "       1, 0, 1, 1, 0, 1, 0, 0, 1, 2, 0, 0, 1, 0])"
      ]
     },
     "execution_count": 55,
     "metadata": {},
     "output_type": "execute_result"
    }
   ],
   "source": [
    "y_predicts =DT.predict(x_test)\n",
    "y_predicts"
   ]
  },
  {
   "cell_type": "code",
   "execution_count": 56,
   "id": "8ddb413b",
   "metadata": {
    "execution": {
     "iopub.execute_input": "2022-08-16T06:51:01.986783Z",
     "iopub.status.busy": "2022-08-16T06:51:01.986018Z",
     "iopub.status.idle": "2022-08-16T06:51:01.992786Z",
     "shell.execute_reply": "2022-08-16T06:51:01.991274Z"
    },
    "papermill": {
     "duration": 0.042462,
     "end_time": "2022-08-16T06:51:01.995652",
     "exception": false,
     "start_time": "2022-08-16T06:51:01.953190",
     "status": "completed"
    },
    "tags": []
   },
   "outputs": [
    {
     "name": "stdout",
     "output_type": "stream",
     "text": [
      "[[84  0  0]\n",
      " [ 2 70  0]\n",
      " [ 0  0 56]]\n"
     ]
    }
   ],
   "source": [
    "print(confusion_matrix(y_test, y_predicts))"
   ]
  },
  {
   "cell_type": "code",
   "execution_count": 57,
   "id": "8f7a7a76",
   "metadata": {},
   "outputs": [
    {
     "data": {
      "text/plain": [
       "<Figure size 432x288 with 0 Axes>"
      ]
     },
     "metadata": {},
     "output_type": "display_data"
    },
    {
     "data": {
      "image/png": "[encoded data removed]",
      "text/plain": [
       "<Figure size 576x432 with 2 Axes>"
      ]
     },
     "metadata": {
      "needs_background": "light"
     },
     "output_type": "display_data"
    }
   ],
   "source": [
    "cnf_matrix = confusion_matrix(y_test, y_predicts,labels=[0, 1, 2])\n",
    "np.set_printoptions(precision=2)\n",
    "\n",
    "plt.figure()\n",
    "plot_confusion_matrix(cnf_matrix, target_names=[0, 1, 2])"
   ]
  },
  {
   "cell_type": "markdown",
   "id": "48af36f6",
   "metadata": {},
   "source": [
    "Accuracy of train dataset"
   ]
  },
  {
   "cell_type": "code",
   "execution_count": 58,
   "id": "54346218",
   "metadata": {
    "execution": {
     "iopub.execute_input": "2022-08-16T06:51:02.061133Z",
     "iopub.status.busy": "2022-08-16T06:51:02.060133Z",
     "iopub.status.idle": "2022-08-16T06:51:02.069931Z",
     "shell.execute_reply": "2022-08-16T06:51:02.068817Z"
    },
    "papermill": {
     "duration": 0.045984,
     "end_time": "2022-08-16T06:51:02.072555",
     "exception": false,
     "start_time": "2022-08-16T06:51:02.026571",
     "status": "completed"
    },
    "tags": []
   },
   "outputs": [
    {
     "data": {
      "text/plain": [
       "1.0"
      ]
     },
     "execution_count": 58,
     "metadata": {},
     "output_type": "execute_result"
    }
   ],
   "source": [
    "DT.score(x_train,y_train)"
   ]
  },
  {
   "cell_type": "markdown",
   "id": "7da59c16",
   "metadata": {},
   "source": [
    "Accuracy of test dataset"
   ]
  },
  {
   "cell_type": "code",
   "execution_count": 59,
   "id": "d7a32c86",
   "metadata": {
    "execution": {
     "iopub.execute_input": "2022-08-16T06:51:02.136350Z",
     "iopub.status.busy": "2022-08-16T06:51:02.135676Z",
     "iopub.status.idle": "2022-08-16T06:51:02.145812Z",
     "shell.execute_reply": "2022-08-16T06:51:02.144864Z"
    },
    "papermill": {
     "duration": 0.044704,
     "end_time": "2022-08-16T06:51:02.148147",
     "exception": false,
     "start_time": "2022-08-16T06:51:02.103443",
     "status": "completed"
    },
    "tags": []
   },
   "outputs": [
    {
     "data": {
      "text/plain": [
       "0.9905660377358491"
      ]
     },
     "execution_count": 59,
     "metadata": {},
     "output_type": "execute_result"
    }
   ],
   "source": [
    "DT.score(x_test,y_test)"
   ]
  },
  {
   "cell_type": "markdown",
   "id": "4a2bbf1f",
   "metadata": {},
   "source": [
    "Classification report for DT model"
   ]
  },
  {
   "cell_type": "code",
   "execution_count": 60,
   "id": "5c1c2cfa",
   "metadata": {
    "execution": {
     "iopub.execute_input": "2022-08-16T06:51:02.212909Z",
     "iopub.status.busy": "2022-08-16T06:51:02.211848Z",
     "iopub.status.idle": "2022-08-16T06:51:02.222921Z",
     "shell.execute_reply": "2022-08-16T06:51:02.221771Z"
    },
    "papermill": {
     "duration": 0.046161,
     "end_time": "2022-08-16T06:51:02.225863",
     "exception": false,
     "start_time": "2022-08-16T06:51:02.179702",
     "status": "completed"
    },
    "tags": []
   },
   "outputs": [
    {
     "name": "stdout",
     "output_type": "stream",
     "text": [
      "              precision    recall  f1-score   support\n",
      "\n",
      "           0       0.98      1.00      0.99        84\n",
      "           1       1.00      0.97      0.99        72\n",
      "           2       1.00      1.00      1.00        56\n",
      "\n",
      "    accuracy                           0.99       212\n",
      "   macro avg       0.99      0.99      0.99       212\n",
      "weighted avg       0.99      0.99      0.99       212\n",
      "\n"
     ]
    }
   ],
   "source": [
    "resultDT = classification_report(y_test, y_predicts)\n",
    "print(resultDT)"
   ]
  },
  {
   "cell_type": "code",
   "execution_count": 61,
   "id": "4b373ea3",
   "metadata": {
    "execution": {
     "iopub.execute_input": "2022-08-16T06:51:02.291689Z",
     "iopub.status.busy": "2022-08-16T06:51:02.291037Z",
     "iopub.status.idle": "2022-08-16T06:51:02.298918Z",
     "shell.execute_reply": "2022-08-16T06:51:02.297660Z"
    },
    "papermill": {
     "duration": 0.044469,
     "end_time": "2022-08-16T06:51:02.302125",
     "exception": false,
     "start_time": "2022-08-16T06:51:02.257656",
     "status": "completed"
    },
    "tags": []
   },
   "outputs": [
    {
     "name": "stdout",
     "output_type": "stream",
     "text": [
      "Accuracy: 1.0\n"
     ]
    }
   ],
   "source": [
    "DT_Predict = DT.predict(x_train)\n",
    "DT_Accuracy = accuracy_score(y_train, DT_Predict)\n",
    "print(\"Accuracy: \" + str(DT_Accuracy))"
   ]
  },
  {
   "cell_type": "markdown",
   "id": "5018b6a4",
   "metadata": {
    "papermill": {
     "duration": 0.122367,
     "end_time": "2022-08-16T06:51:02.455967",
     "exception": false,
     "start_time": "2022-08-16T06:51:02.333600",
     "status": "completed"
    },
    "tags": []
   },
   "source": [
    "# Model Performance Summary"
   ]
  },
  {
   "cell_type": "code",
   "execution_count": 62,
   "id": "dcb63d11",
   "metadata": {
    "execution": {
     "iopub.execute_input": "2022-08-16T06:51:02.584716Z",
     "iopub.status.busy": "2022-08-16T06:51:02.584278Z",
     "iopub.status.idle": "2022-08-16T06:51:02.590308Z",
     "shell.execute_reply": "2022-08-16T06:51:02.589395Z"
    },
    "papermill": {
     "duration": 0.040537,
     "end_time": "2022-08-16T06:51:02.592516",
     "exception": false,
     "start_time": "2022-08-16T06:51:02.551979",
     "status": "completed"
    },
    "tags": []
   },
   "outputs": [],
   "source": [
    "model_performance_accuracy = pd.DataFrame({'Model': ['LogisticRegression', 'RandomForestClassifier', 'KNeighborsClassifier', 'DecisionTreeClassifier'], 'Accuracy': [LR_Accuracy, RFC_Accuracy, KNN_Accuracy, DT_Accuracy]})\n"
   ]
  },
  {
   "cell_type": "code",
   "execution_count": 63,
   "id": "161a6b47",
   "metadata": {
    "execution": {
     "iopub.execute_input": "2022-08-16T06:51:02.656668Z",
     "iopub.status.busy": "2022-08-16T06:51:02.656178Z",
     "iopub.status.idle": "2022-08-16T06:51:02.668110Z",
     "shell.execute_reply": "2022-08-16T06:51:02.667242Z"
    },
    "papermill": {
     "duration": 0.046784,
     "end_time": "2022-08-16T06:51:02.670175",
     "exception": false,
     "start_time": "2022-08-16T06:51:02.623391",
     "status": "completed"
    },
    "tags": []
   },
   "outputs": [
    {
     "data": {
      "text/html": [
       "<div>\n",
       "<style scoped>\n",
       "    .dataframe tbody tr th:only-of-type {\n",
       "        vertical-align: middle;\n",
       "    }\n",
       "\n",
       "    .dataframe tbody tr th {\n",
       "        vertical-align: top;\n",
       "    }\n",
       "\n",
       "    .dataframe thead th {\n",
       "        text-align: right;\n",
       "    }\n",
       "</style>\n",
       "<table border=\"1\" class=\"dataframe\">\n",
       "  <thead>\n",
       "    <tr style=\"text-align: right;\">\n",
       "      <th></th>\n",
       "      <th>Model</th>\n",
       "      <th>Accuracy</th>\n",
       "    </tr>\n",
       "  </thead>\n",
       "  <tbody>\n",
       "    <tr>\n",
       "      <th>1</th>\n",
       "      <td>RandomForestClassifier</td>\n",
       "      <td>1.000000</td>\n",
       "    </tr>\n",
       "    <tr>\n",
       "      <th>3</th>\n",
       "      <td>DecisionTreeClassifier</td>\n",
       "      <td>1.000000</td>\n",
       "    </tr>\n",
       "    <tr>\n",
       "      <th>2</th>\n",
       "      <td>KNeighborsClassifier</td>\n",
       "      <td>0.994097</td>\n",
       "    </tr>\n",
       "    <tr>\n",
       "      <th>0</th>\n",
       "      <td>LogisticRegression</td>\n",
       "      <td>0.715466</td>\n",
       "    </tr>\n",
       "  </tbody>\n",
       "</table>\n",
       "</div>"
      ],
      "text/plain": [
       "                    Model  Accuracy\n",
       "1  RandomForestClassifier  1.000000\n",
       "3  DecisionTreeClassifier  1.000000\n",
       "2    KNeighborsClassifier  0.994097\n",
       "0      LogisticRegression  0.715466"
      ]
     },
     "execution_count": 63,
     "metadata": {},
     "output_type": "execute_result"
    }
   ],
   "source": [
    "model_performance_accuracy.sort_values(by = \"Accuracy\", ascending = False)"
   ]
  }
 ],
 "metadata": {
  "kernelspec": {
   "display_name": "Python 3 (ipykernel)",
   "language": "python",
   "name": "python3"
  },
  "language_info": {
   "codemirror_mode": {
    "name": "ipython",
    "version": 3
   },
   "file_extension": ".py",
   "mimetype": "text/x-python",
   "name": "python",
   "nbconvert_exporter": "python",
   "pygments_lexer": "ipython3",
   "version": "3.9.12"
  }
 },
 "nbformat": 4,
 "nbformat_minor": 5
}
